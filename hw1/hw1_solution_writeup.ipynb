{
 "cells": [
  {
   "cell_type": "markdown",
   "metadata": {},
   "source": [
    "<div style=\"text-align: right\"> \n",
    "Carlos Alvarado <br>\n",
    "Machine Learning For PP <br>\n",
    "Spring 2017\n",
    "</div>"
   ]
  },
  {
   "cell_type": "markdown",
   "metadata": {},
   "source": [
    "# Part 1\n",
    "\n",
    "### 1. Download and combine data\n",
    "\n",
    "See *hw1_solution.ipynb*\n",
    "\n",
    "### 2. Summary stats\n",
    "\n",
    "### 3. Five interesting observations\n",
    "\n",
    "\n"
   ]
  },
  {
   "cell_type": "markdown",
   "metadata": {},
   "source": [
    "# Part 2\n",
    "\n",
    "1. What types of blocks get \"Vacant and Abandoned Buildings Reported”?\n",
    "2. What types of blocks get “Sanitation Code Complaints”?\n",
    "3. Does that change over time in the data you collected?\n",
    "4. What is the difference in blocks that get \"Vacant and Abandoned Buildings Reported” vs \"Sanitation Code Complaints\"?"
   ]
  },
  {
   "cell_type": "markdown",
   "metadata": {},
   "source": [
    "# Part 3\n",
    "\n",
    "### Question A.\n",
    "Answer:\n",
    "*7500 S. Wolcott Ave.* is located at 41.7573666 -87.6711973381924\n",
    "According to Census API, this coordinate corresponds to FIPS_12 = 170317104005\n",
    "\n",
    "For that block group, the number of requests by type are as follow:\n",
    "\n",
    "\n",
    "### Question B.\n",
    "\n",
    "\n",
    "P(Lawndale | Graffiti Removal)\n",
    "\n",
    "P(Uptown | Graffiti Removal)\n",
    "\n",
    "### Question C.\n",
    "\n",
    "P(Englewood | Graffiti Removal) = \n",
    "\n",
    "P(Uptown | Graffiti Removal) = P(Uptown and Graffiti Removal) / P(Graffiti Removal)\n"
   ]
  }
 ],
 "metadata": {
  "kernelspec": {
   "display_name": "Python 3",
   "language": "python",
   "name": "python3"
  },
  "language_info": {
   "codemirror_mode": {
    "name": "ipython",
    "version": 3
   },
   "file_extension": ".py",
   "mimetype": "text/x-python",
   "name": "python",
   "nbconvert_exporter": "python",
   "pygments_lexer": "ipython3",
   "version": "3.4.0"
  }
 },
 "nbformat": 4,
 "nbformat_minor": 0
}
