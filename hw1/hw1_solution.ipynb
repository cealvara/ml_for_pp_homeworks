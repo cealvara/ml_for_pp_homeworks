{
 "cells": [
  {
   "cell_type": "markdown",
   "metadata": {
    "deletable": true,
    "editable": true
   },
   "source": [
    "# HW 1 - Carlos Alvarado"
   ]
  },
  {
   "cell_type": "markdown",
   "metadata": {
    "deletable": true,
    "editable": true
   },
   "source": [
    "### Problem 1 - CODE"
   ]
  },
  {
   "cell_type": "code",
   "execution_count": 3,
   "metadata": {
    "collapsed": false,
    "deletable": true,
    "editable": true
   },
   "outputs": [],
   "source": [
    "import os\n",
    "import pandas as pd\n",
    "import requests\n",
    "\n",
    "def get_and_load_data(data_info):\n",
    "    '''\n",
    "    Loads \"data_name.csv\" from local disk, or downloads it if it's not present\n",
    "    \n",
    "    Input: dictionary with information about required data\n",
    "    Returns: pandas data_frame for \"data_name\"\n",
    "    '''\n",
    "    \n",
    "    filepath = './data/{}.csv'.format(data_info['source'])\n",
    "    \n",
    "    if os.path.exists(filepath):\n",
    "        data = pd.read_csv(filepath)\n",
    "    else:\n",
    "        data = helper_download_data(filepath, data_name)\n",
    "    \n",
    "    for old_var, new_var in data_info['rename']:\n",
    "        data.rename(index=str, columns={old_var: new_var}, inplace=True)\n",
    "        \n",
    "    return data\n",
    "    \n",
    "def helper_download_data(filepath, data_name):\n",
    "    offset = 0\n",
    "    limit = 50000\n",
    "    data = pd.DataFrame({})\n",
    "    \n",
    "    while True:\n",
    "        \n",
    "        url = 'https://data.cityofchicago.org/resource/{}.json?$limit={}&$offset={}'.format(\n",
    "            data_name, limit, offset)\n",
    "        print('getting data from', url)\n",
    "    \n",
    "        response = requests.get(url)\n",
    "        response_code = response.status_code\n",
    "        \n",
    "        if response_code != 200: \n",
    "            print('Failed to download data')\n",
    "            break\n",
    "            \n",
    "        json_data = response.content\n",
    "\n",
    "        if len(json_data) > 4:\n",
    "            data = pd.concat([data, pd.read_json(json_data)])\n",
    "        \n",
    "            offset = offset + limit\n",
    "        else:\n",
    "            print(json_data)\n",
    "            break\n",
    "            \n",
    "    #save data to csv for future use\n",
    "    data.to_csv(filepath)\n",
    "    \n",
    "    return data    "
   ]
  },
  {
   "cell_type": "code",
   "execution_count": 43,
   "metadata": {
    "collapsed": false,
    "deletable": true,
    "editable": true
   },
   "outputs": [
    {
     "name": "stdout",
     "output_type": "stream",
     "text": [
      "Index(['Unnamed: 0', 'community_area', 'completion_date', 'creation_date',\n",
      "       'latitude', 'location', 'longitude', 'police_district',\n",
      "       'service_request_number', 'ssa', 'status', 'street_address',\n",
      "       'type_of_service_request', 'ward',\n",
      "       'what_type_of_surface_is_the_graffiti_on_', 'Sub Type', 'x_coordinate',\n",
      "       'y_coordinate', 'zip_code'],\n",
      "      dtype='object')\n",
      "Index(['Unnamed: 0', 'address_street_direction', 'address_street_name',\n",
      "       'address_street_number', 'address_street_suffix',\n",
      "       'any_people_using_property_homeless_childen_gangs_', 'community_area',\n",
      "       'creation_date', 'if_the_building_is_open_where_is_the_entry_point_',\n",
      "       'Sub Type', 'is_the_building_currently_vacant_or_occupied_',\n",
      "       'is_the_building_dangerous_or_hazardous_',\n",
      "       'is_the_building_vacant_due_to_fire_', 'latitude', 'location',\n",
      "       'location_of_building_on_the_lot_if_garage_change_type_code_to_bgd_',\n",
      "       'longitude', 'police_district', 'service_request_number',\n",
      "       'service_request_type', 'ward', 'x_coordinate', 'y_coordinate',\n",
      "       'zip_code'],\n",
      "      dtype='object')\n",
      "Index(['Unnamed: 0', 'community_area', 'completion_date', 'creation_date',\n",
      "       'current_activity', 'latitude', 'location', 'longitude',\n",
      "       'most_recent_action', 'number_of_potholes_filled_on_block',\n",
      "       'police_district', 'service_request_number', 'ssa', 'status',\n",
      "       'street_address', 'Sub Type', 'ward', 'x_coordinate', 'y_coordinate',\n",
      "       'zip_code'],\n",
      "      dtype='object')\n",
      "Index(['Unnamed: 0', 'community_area', 'completion_date', 'creation_date',\n",
      "       'latitude', 'location', 'longitude', 'police_district',\n",
      "       'service_request_number', 'status', 'street_address',\n",
      "       'type_of_service_request', 'ward', 'Sub Type', 'x_coordinate',\n",
      "       'y_coordinate', 'zip_code'],\n",
      "      dtype='object')\n"
     ]
    },
    {
     "name": "stderr",
     "output_type": "stream",
     "text": [
      "/usr/local/lib/python3.4/dist-packages/IPython/core/interactiveshell.py:3006: DtypeWarning: Columns (3,11) have mixed types. Specify dtype option on import or set low_memory=False.\n",
      "  if self.run_code(code, result):\n"
     ]
    }
   ],
   "source": [
    "DATA1 = {'name': 'Graffiti Removal',\n",
    "         'source': 'hec5-y4x5',\n",
    "         'rename': [('where_is_the_graffiti_located_', 'Sub Type')]    \n",
    "        }\n",
    "\n",
    "DATA2 = {'name': 'Vacant and Abandoned Buildings Reported',\n",
    "         'source': '7nii-7srd',\n",
    "         'rename': [('is_building_open_or_boarded_', 'Sub Type'), \n",
    "                    ('date_service_request_was_received', 'creation_date')]\n",
    "        }\n",
    "\n",
    "DATA3 = {'name': 'Pot Holes Reported',\n",
    "         'source': '7as2-ds3y',\n",
    "         'rename': [('zip', 'zip_code'), \n",
    "                    ('type_of_service_request', 'Sub Type')]\n",
    "        }\n",
    "    \n",
    "DATA4 = {'name': 'Sanitation Code Complaints',\n",
    "         'source': 'me59-5fac',\n",
    "         'rename': [('what_is_the_nature_of_this_code_violation_', 'Sub Type')]\n",
    "        }\n",
    "\n",
    "SOURCES = [DATA1, DATA2, DATA3, DATA4]\n",
    "\n",
    "complaints = pd.DataFrame({})\n",
    "\n",
    "for db_data in SOURCES:\n",
    "    data = get_and_load_data(db_data)\n",
    "    print(data.columns)\n",
    "    data['Complaint Type'] = db_data['name']\n",
    "    complaints = pd.concat([complaints, data], ignore_index=True)"
   ]
  },
  {
   "cell_type": "code",
   "execution_count": 44,
   "metadata": {
    "collapsed": true
   },
   "outputs": [],
   "source": [
    "#create sample database to play with\n",
    "complaints.sample(1000).to_csv('./data/sample.csv')"
   ]
  },
  {
   "cell_type": "code",
   "execution_count": 73,
   "metadata": {
    "collapsed": false
   },
   "outputs": [],
   "source": [
    "import geopandas as gpd\n",
    "area_names_file = \"./data/boundaries/Boundaries - Community Areas (current).geojson\"\n",
    "area_names = gpd.read_file(area_names_file)\n",
    "area_names['area_numbe'] = pd.to_numeric(area_names.area_numbe, errors='coerce')\n",
    "\n",
    "complaints = pd.read_csv('./data/sample.csv')\n",
    "\n",
    "complaints = complaints.merge(area_names, left_on='community_area', right_on='area_numbe', how='left')"
   ]
  },
  {
   "cell_type": "code",
   "execution_count": 74,
   "metadata": {
    "collapsed": false
   },
   "outputs": [
    {
     "data": {
      "text/plain": [
       "WEST TOWN             56\n",
       "SOUTH LAWNDALE        48\n",
       "LOGAN SQUARE          42\n",
       "GAGE PARK             36\n",
       "IRVING PARK           34\n",
       "BELMONT CRAGIN        32\n",
       "LOWER WEST SIDE       29\n",
       "BRIGHTON PARK         29\n",
       "PORTAGE PARK          26\n",
       "AVONDALE              25\n",
       "NEW CITY              24\n",
       "NEAR WEST SIDE        24\n",
       "GARFIELD RIDGE        23\n",
       "MCKINLEY PARK         23\n",
       "LAKE VIEW             21\n",
       "LINCOLN PARK          20\n",
       "NEAR NORTH SIDE       20\n",
       "WEST ELSDON           19\n",
       "ASHBURN               19\n",
       "AUSTIN                19\n",
       "NORTH CENTER          18\n",
       "LINCOLN SQUARE        18\n",
       "HUMBOLDT PARK         18\n",
       "ARCHER HEIGHTS        17\n",
       "CHICAGO LAWN          17\n",
       "ALBANY PARK           16\n",
       "ROGERS PARK           16\n",
       "BRIDGEPORT            16\n",
       "WEST ENGLEWOOD        15\n",
       "WEST RIDGE            15\n",
       "                      ..\n",
       "ARMOUR SQUARE          7\n",
       "NORWOOD PARK           6\n",
       "NORTH LAWNDALE         6\n",
       "WOODLAWN               5\n",
       "MOUNT GREENWOOD        5\n",
       "CLEARING               5\n",
       "WASHINGTON PARK        5\n",
       "MORGAN PARK            5\n",
       "FOREST GLEN            5\n",
       "SOUTH DEERING          5\n",
       "CHATHAM                5\n",
       "WASHINGTON HEIGHTS     4\n",
       "AVALON PARK            4\n",
       "DOUGLAS                3\n",
       "HEGEWISCH              3\n",
       "JEFFERSON PARK         3\n",
       "EAST GARFIELD PARK     3\n",
       "HYDE PARK              3\n",
       "CALUMET HEIGHTS        2\n",
       "BEVERLY                2\n",
       "EDISON PARK            2\n",
       "FULLER PARK            2\n",
       "BURNSIDE               2\n",
       "WEST GARFIELD PARK     2\n",
       "KENWOOD                2\n",
       "PULLMAN                2\n",
       "GRAND BOULEVARD        2\n",
       "RIVERDALE              1\n",
       "OHARE                  1\n",
       "MONTCLARE              1\n",
       "Name: community, dtype: int64"
      ]
     },
     "execution_count": 74,
     "metadata": {},
     "output_type": "execute_result"
    }
   ],
   "source": [
    "complaints.community.value_counts()"
   ]
  },
  {
   "cell_type": "code",
   "execution_count": 3,
   "metadata": {
    "collapsed": false,
    "deletable": true,
    "editable": true
   },
   "outputs": [
    {
     "data": {
      "text/plain": [
       "Graffiti Removal                           854622\n",
       "Pot Holes Reported                         457442\n",
       "Sanitation Code Complaints                 118761\n",
       "Vacant and Abandoned Buildings Reported     58716\n",
       "Name: Complaint Type, dtype: int64"
      ]
     },
     "execution_count": 3,
     "metadata": {},
     "output_type": "execute_result"
    }
   ],
   "source": [
    "#number of complaints by type\n",
    "ctcounts = complaints['Complaint Type'].value_counts()\n",
    "ctcounts"
   ]
  },
  {
   "cell_type": "code",
   "execution_count": 76,
   "metadata": {
    "collapsed": false
   },
   "outputs": [
    {
     "name": "stdout",
     "output_type": "stream",
     "text": [
      "                                                             0\n",
      "community          Complaint Type                             \n",
      "ALBANY PARK        Graffiti Removal                         14\n",
      "                   Pot Holes Reported                        2\n",
      "ARCHER HEIGHTS     Graffiti Removal                         15\n",
      "                   Sanitation Code Complaints                2\n",
      "ARMOUR SQUARE      Graffiti Removal                          5\n",
      "                   Pot Holes Reported                        1\n",
      "                   Sanitation Code Complaints                1\n",
      "ASHBURN            Graffiti Removal                         10\n",
      "                   Pot Holes Reported                        7\n",
      "                   Sanitation Code Complaints                1\n",
      "                   Vacant and Abandoned Buildings Reported   1\n",
      "AUBURN GRESHAM     Graffiti Removal                          1\n",
      "                   Pot Holes Reported                        7\n",
      "                   Sanitation Code Complaints                3\n",
      "                   Vacant and Abandoned Buildings Reported   2\n",
      "AUSTIN             Graffiti Removal                          2\n",
      "                   Pot Holes Reported                       11\n",
      "                   Sanitation Code Complaints                6\n",
      "AVALON PARK        Pot Holes Reported                        3\n",
      "                   Vacant and Abandoned Buildings Reported   1\n",
      "AVONDALE           Graffiti Removal                         18\n",
      "                   Pot Holes Reported                        6\n",
      "                   Sanitation Code Complaints                1\n",
      "BELMONT CRAGIN     Graffiti Removal                         27\n",
      "                   Pot Holes Reported                        4\n",
      "                   Sanitation Code Complaints                1\n",
      "BEVERLY            Pot Holes Reported                        2\n",
      "BRIDGEPORT         Graffiti Removal                         10\n",
      "                   Pot Holes Reported                        4\n",
      "                   Sanitation Code Complaints                2\n",
      "...                                                         ..\n",
      "UPTOWN             Pot Holes Reported                        3\n",
      "WASHINGTON HEIGHTS Pot Holes Reported                        2\n",
      "                   Sanitation Code Complaints                2\n",
      "WASHINGTON PARK    Pot Holes Reported                        3\n",
      "                   Sanitation Code Complaints                1\n",
      "                   Vacant and Abandoned Buildings Reported   1\n",
      "WEST ELSDON        Graffiti Removal                         16\n",
      "                   Pot Holes Reported                        1\n",
      "                   Sanitation Code Complaints                2\n",
      "WEST ENGLEWOOD     Graffiti Removal                          1\n",
      "                   Pot Holes Reported                        6\n",
      "                   Sanitation Code Complaints                4\n",
      "                   Vacant and Abandoned Buildings Reported   4\n",
      "WEST GARFIELD PARK Graffiti Removal                          1\n",
      "                   Pot Holes Reported                        1\n",
      "WEST LAWN          Graffiti Removal                          6\n",
      "                   Pot Holes Reported                        8\n",
      "WEST PULLMAN       Graffiti Removal                          2\n",
      "                   Pot Holes Reported                        4\n",
      "                   Sanitation Code Complaints                2\n",
      "WEST RIDGE         Graffiti Removal                          7\n",
      "                   Pot Holes Reported                        6\n",
      "                   Sanitation Code Complaints                2\n",
      "WEST TOWN          Graffiti Removal                         42\n",
      "                   Pot Holes Reported                       11\n",
      "                   Sanitation Code Complaints                3\n",
      "WOODLAWN           Graffiti Removal                          1\n",
      "                   Pot Holes Reported                        1\n",
      "                   Sanitation Code Complaints                1\n",
      "                   Vacant and Abandoned Buildings Reported   2\n",
      "\n",
      "[186 rows x 1 columns]\n"
     ]
    }
   ],
   "source": [
    "#complaints by type and neighboorhood\n",
    "gb = complaints.groupby(['community', 'Complaint Type']).size().to_frame()\n",
    "print(gb)"
   ]
  },
  {
   "cell_type": "code",
   "execution_count": 4,
   "metadata": {
    "collapsed": false,
    "deletable": true,
    "editable": true
   },
   "outputs": [
    {
     "name": "stdout",
     "output_type": "stream",
     "text": [
      "                                                                                         0\n",
      "Complaint Type                          Sub Type                                          \n",
      "Graffiti Removal                        Alley                                        35316\n",
      "                                        Bench                                         2722\n",
      "                                        Door                                         22303\n",
      "                                        Dumpster                                     14342\n",
      "                                        Express Way Job                               1610\n",
      "                                        Fence                                        16245\n",
      "                                        Front                                       310521\n",
      "                                        Garage                                      100033\n",
      "                                        Garbage Cart                                  6293\n",
      "                                        Hydrant                                        408\n",
      "                                        Mail Box                                     10174\n",
      "                                        Newspaper Box                                 6512\n",
      "                                        Overpass                                       968\n",
      "                                        Phone                                          564\n",
      "                                        Pole                                         54532\n",
      "                                        Rear                                         63917\n",
      "                                        Side                                        148543\n",
      "                                        Sign                                         18023\n",
      "                                        Traffic Control Box                          29071\n",
      "                                        Viaduct                                       7075\n",
      "Pot Holes Reported                      Pot Hole in Street                          236060\n",
      "                                        Pothole in Street                           221382\n",
      "Sanitation Code Complaints              Construction Site Cleanliness/Fence           4181\n",
      "                                        Dog feces in yard                             6345\n",
      "                                        Dumpster not being emptied                    9210\n",
      "                                        Garbage in alley                             18004\n",
      "                                        Garbage in yard                              21531\n",
      "                                        Graffiti Commercial Vehicle                     88\n",
      "                                        Other                                        44555\n",
      "                                        Overflowing carts                             8928\n",
      "                                        Standing water                                1145\n",
      "                                        WHAT IS THE NATURE OF THIS CODE VIOLATION?       1\n",
      "Vacant and Abandoned Buildings Reported Boarded                                       6338\n",
      "                                        Building is Boarded Up                          33\n",
      "                                        Building is Open / Unsecure                    258\n",
      "                                        IS BUILDING OPEN OR BOARDED?                     1\n",
      "                                        Open                                         44712\n"
     ]
    }
   ],
   "source": [
    "gb = complaints.groupby(['Complaint Type', 'Sub Type']).size().to_frame()\n",
    "print(gb)"
   ]
  },
  {
   "cell_type": "code",
   "execution_count": null,
   "metadata": {
    "collapsed": false,
    "deletable": true,
    "editable": true
   },
   "outputs": [],
   "source": [
    "gb_community_area = complaints.groupby(['Complaint Type', 'community_area']).size().to_frame()\n",
    "select = gb_community_area['0'] \n",
    "print(gb_community_area)"
   ]
  },
  {
   "cell_type": "markdown",
   "metadata": {
    "deletable": true,
    "editable": true
   },
   "source": [
    "### Problem 2"
   ]
  },
  {
   "cell_type": "code",
   "execution_count": 7,
   "metadata": {
    "collapsed": false
   },
   "outputs": [
    {
     "name": "stdout",
     "output_type": "stream",
     "text": [
      "Warning: CRS does not match!\n"
     ]
    }
   ],
   "source": [
    "# Adding Block ID to 311 Requests data \n",
    "import geopandas as gpd\n",
    "import pandas as pd\n",
    "from geopandas import GeoDataFrame\n",
    "from geopandas.tools import sjoin\n",
    "from shapely.geometry import Point\n",
    "\n",
    "blocks = gpd.read_file('./data/cb_2015_17_bg_500k/cb_2015_17_bg_500k.shp')\n",
    "#blocks = gpd.read_file('./data/boundaries/boundaries_census.geojson')\n",
    "\n",
    "#complaints = pd.read_csv('./data/sample.csv')\n",
    "\n",
    "clean_data = complaints[complaints['latitude'].notnull() & complaints['longitude'].notnull()]\n",
    "\n",
    "geometry = [Point(xy) for xy in zip(clean_data.longitude, clean_data.latitude)]\n",
    "clean_data = clean_data.drop(['latitude', 'longitude'], axis=1)\n",
    "\n",
    "crs = {'init': 'epsg:4269'}\n",
    "geo_complaints = GeoDataFrame(clean_data, crs=crs, geometry=geometry)\n",
    "\n",
    "data_with_blockid = sjoin(geo_complaints, blocks, how=\"left\")"
   ]
  },
  {
   "cell_type": "code",
   "execution_count": 22,
   "metadata": {
    "collapsed": false
   },
   "outputs": [],
   "source": [
    "crs = {'init': 'epsg:4269'}\n",
    "geo_complaints = GeoDataFrame(clean_data, crs=crs, geometry=geometry)\n",
    "\n",
    "data_with_blockid = sjoin(geo_complaints, blocks, how=\"left\")"
   ]
  },
  {
   "cell_type": "code",
   "execution_count": 14,
   "metadata": {
    "collapsed": false
   },
   "outputs": [],
   "source": [
    "# Getting census data\n",
    "import requests\n",
    "import pandas as pd\n",
    "\n",
    "def get_data_census(varname, label):\n",
    "\n",
    "    census_api_url = 'http://api.census.gov/data/' + \\\n",
    "                    '2015/acs5?get=NAME,' + varname + \\\n",
    "                    '&for=block+group:*&in=state:17&in=county:031&in=tract:*'\n",
    "\n",
    "    response = requests.get(census_api_url)\n",
    "\n",
    "    json_data = response.content\n",
    "\n",
    "    data = pd.read_json(json_data)\n",
    "\n",
    "    names = list(data.iloc[0])\n",
    "\n",
    "    for i in range(0,6):\n",
    "        data.rename(index=str, columns={i: names[i]}, inplace=True)\n",
    "    \n",
    "    data.rename(index=str, columns={varname: label}, inplace=True)\n",
    "    \n",
    "    data['GEOID'] = data['state'].map(str) + data['county'].map(str) + \\\n",
    "                            data['tract'].map(str) + data['block group'].map(str)\n",
    "\n",
    "    data.drop(data.index[[0]], inplace=True)\n",
    "    \n",
    "    print('downloaded', varname)\n",
    "    \n",
    "    return data\n",
    "\n",
    "download_data = [('B01003_001E', 'Total Population'),\n",
    "                ('B02001_002E', 'White Population'),\n",
    "                ('B19013_001E', 'Median Household Income'),\n",
    "                ('B06009_002E', 'Less than highschool')]\n",
    "\n",
    "for i, (varname, label) in enumerate(download_data):\n",
    "    downloaded = get_data_census(varname, label)\n",
    "    if i == 0:\n",
    "        census_data = downloaded\n",
    "    else:\n",
    "        census_data = census_data.merge(downloaded, on='GEOID', how='outer')\n",
    "\n",
    "data_with_blockid2 = data_with_blockid.merge(census_data, on='GEOID')    "
   ]
  },
  {
   "cell_type": "code",
   "execution_count": 23,
   "metadata": {
    "collapsed": false
   },
   "outputs": [],
   "source": [
    "data_with_blockid2 = data_with_blockid.merge(census_data, on='GEOID')    "
   ]
  },
  {
   "cell_type": "code",
   "execution_count": null,
   "metadata": {
    "collapsed": false
   },
   "outputs": [],
   "source": [
    "data_with_blockid2.iloc[10]"
   ]
  },
  {
   "cell_type": "markdown",
   "metadata": {
    "deletable": true,
    "editable": true
   },
   "source": [
    "### Problem 3"
   ]
  },
  {
   "cell_type": "code",
   "execution_count": null,
   "metadata": {
    "collapsed": false
   },
   "outputs": [],
   "source": [
    "len(blocks2.blockce10.value_counts())"
   ]
  },
  {
   "cell_type": "code",
   "execution_count": null,
   "metadata": {
    "collapsed": false
   },
   "outputs": [],
   "source": [
    "blocks2.columns"
   ]
  },
  {
   "cell_type": "code",
   "execution_count": null,
   "metadata": {
    "collapsed": false
   },
   "outputs": [],
   "source": [
    "blocks2.countyfp10.value_counts()"
   ]
  },
  {
   "cell_type": "code",
   "execution_count": null,
   "metadata": {
    "collapsed": true
   },
   "outputs": [],
   "source": []
  },
  {
   "cell_type": "code",
   "execution_count": null,
   "metadata": {
    "collapsed": true
   },
   "outputs": [],
   "source": [
    "#to make graphs\n",
    "%matplotlib inline\n",
    "import matplotlib\n",
    "blocks.plot();\n",
    "\n",
    "base = blocks2.plot(color='white')\n",
    "\n",
    "geo_sel.plot(ax=base, marker='o', color='red', markersize=5);"
   ]
  }
 ],
 "metadata": {
  "kernelspec": {
   "display_name": "Python 3",
   "language": "python",
   "name": "python3"
  },
  "language_info": {
   "codemirror_mode": {
    "name": "ipython",
    "version": 3
   },
   "file_extension": ".py",
   "mimetype": "text/x-python",
   "name": "python",
   "nbconvert_exporter": "python",
   "pygments_lexer": "ipython3",
   "version": "3.4.3"
  }
 },
 "nbformat": 4,
 "nbformat_minor": 0
}
