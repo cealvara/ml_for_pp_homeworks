{
 "cells": [
  {
   "cell_type": "markdown",
   "metadata": {
    "deletable": true,
    "editable": true
   },
   "source": [
    "# HW 1 - Carlos Alvarado"
   ]
  },
  {
   "cell_type": "markdown",
   "metadata": {
    "deletable": true,
    "editable": true
   },
   "source": [
    "### Problem 1"
   ]
  },
  {
   "cell_type": "code",
   "execution_count": null,
   "metadata": {
    "collapsed": false,
    "deletable": true,
    "editable": true
   },
   "outputs": [],
   "source": [
    "import os\n",
    "import pandas as pd\n",
    "import requests\n",
    "\n",
    "def get_and_load_data(data_info):\n",
    "    '''\n",
    "    Loads \"data_name.csv\" from local disk, or downloads it if it's not present\n",
    "    \n",
    "    Input: dictionary with information about required data\n",
    "    Returns: pandas data_frame for \"data_name\"\n",
    "    '''\n",
    "    \n",
    "    filepath = './data/{}.csv'.format(data_info['source'])\n",
    "    \n",
    "    if os.path.exists(filepath):\n",
    "        data = pd.read_csv(filepath)\n",
    "    else:\n",
    "        data = helper_download_data(filepath, data_name)\n",
    "    \n",
    "    for old_var, new_var in data_info['rename']:\n",
    "        data.rename(index=str, columns={old_var: new_var}, inplace=True)\n",
    "        \n",
    "    return data\n",
    "    \n",
    "def helper_download_data(filepath, data_name):\n",
    "    offset = 0\n",
    "    limit = 50000\n",
    "    data = pd.DataFrame({})\n",
    "    \n",
    "    while True:\n",
    "        \n",
    "        url = 'https://data.cityofchicago.org/resource/{}.json?$limit={}&$offset={}'.format(\n",
    "            data_name, limit, offset)\n",
    "        print('getting data from', url)\n",
    "    \n",
    "        response = requests.get(url)\n",
    "        response_code = response.status_code\n",
    "        \n",
    "        if response_code != 200: \n",
    "            print('Failed to download data')\n",
    "            break\n",
    "            \n",
    "        json_data = response.content\n",
    "\n",
    "        if len(json_data) > 4:\n",
    "            data = pd.concat([data, pd.read_json(json_data)])\n",
    "        \n",
    "            offset = offset + limit\n",
    "        else:\n",
    "            print(json_data)\n",
    "            break\n",
    "            \n",
    "    #save data to csv for future use\n",
    "    data.to_csv(filepath)\n",
    "    \n",
    "    return data\n",
    "    "
   ]
  },
  {
   "cell_type": "code",
   "execution_count": null,
   "metadata": {
    "collapsed": false,
    "deletable": true,
    "editable": true
   },
   "outputs": [],
   "source": [
    "DATA1 = {'name': 'Graffiti Removal',\n",
    "         'source': 'hec5-y4x5',\n",
    "         'rename': [('where_is_the_graffiti_located_', 'Sub Type')]    \n",
    "        }\n",
    "\n",
    "DATA2 = {'name': 'Vacant and Abandoned Buildings Reported',\n",
    "         'source': '7nii-7srd',\n",
    "         'rename': [('is_building_open_or_boarded_', 'Sub Type'), \n",
    "                    ('date_service_request_was_received', 'creation_date')]\n",
    "        }\n",
    "\n",
    "DATA3 = {'name': 'Pot Holes Reported',\n",
    "         'source': '7as2-ds3y',\n",
    "         'rename': [('zip', 'zip_code'), \n",
    "                    ('type_of_service_request', 'Sub Type')]\n",
    "        }\n",
    "    \n",
    "DATA4 = {'name': 'Sanitation Code Complaints',\n",
    "         'source': 'me59-5fac',\n",
    "         'rename': [('what_is_the_nature_of_this_code_violation_', 'Sub Type')]\n",
    "        }\n",
    "\n",
    "SOURCES = [DATA1, DATA2, DATA3, DATA4]\n",
    "\n",
    "complaints = pd.DataFrame({})\n",
    "\n",
    "for db_data in SOURCES:\n",
    "    data = get_and_load_data(db_data)\n",
    "    print(data.columns)\n",
    "    data['Complaint Type'] = db_data['name']\n",
    "    complaints = pd.concat([complaints, data], ignore_index=True)\n",
    "\n",
    "complaints.sample(1000).to_csv('./data/sample.csv')\n",
    "\n"
   ]
  },
  {
   "cell_type": "code",
   "execution_count": null,
   "metadata": {
    "collapsed": false,
    "deletable": true,
    "editable": true
   },
   "outputs": [],
   "source": [
    "complaints.loc[10]"
   ]
  },
  {
   "cell_type": "code",
   "execution_count": null,
   "metadata": {
    "collapsed": false,
    "deletable": true,
    "editable": true
   },
   "outputs": [],
   "source": [
    "ctcounts = complaints['Complaint Type'].value_counts()\n",
    "ctcounts"
   ]
  },
  {
   "cell_type": "code",
   "execution_count": null,
   "metadata": {
    "collapsed": false,
    "deletable": true,
    "editable": true
   },
   "outputs": [],
   "source": [
    "gb = complaints.groupby(['Complaint Type', 'Sub Type']).size().to_frame()\n",
    "print(gb)"
   ]
  },
  {
   "cell_type": "code",
   "execution_count": null,
   "metadata": {
    "collapsed": false,
    "deletable": true,
    "editable": true
   },
   "outputs": [],
   "source": [
    "gb_community_area = complaints.groupby(['Complaint Type', 'community_area']).size().to_frame()\n",
    "select = gb_community_area['0'] \n",
    "print(gb_community_area)"
   ]
  },
  {
   "cell_type": "markdown",
   "metadata": {
    "deletable": true,
    "editable": true
   },
   "source": [
    "### Problem 2"
   ]
  },
  {
   "cell_type": "code",
   "execution_count": 1,
   "metadata": {
    "collapsed": false,
    "deletable": true,
    "editable": true
   },
   "outputs": [
    {
     "data": {
      "text/html": [
       "<div>\n",
       "<table border=\"1\" class=\"dataframe\">\n",
       "  <thead>\n",
       "    <tr style=\"text-align: right;\">\n",
       "      <th></th>\n",
       "      <th>blockce10</th>\n",
       "      <th>countyfp10</th>\n",
       "      <th>geoid10</th>\n",
       "      <th>geometry</th>\n",
       "      <th>name10</th>\n",
       "      <th>statefp10</th>\n",
       "      <th>tract_bloc</th>\n",
       "      <th>tractce10</th>\n",
       "    </tr>\n",
       "  </thead>\n",
       "  <tbody>\n",
       "    <tr>\n",
       "      <th>0</th>\n",
       "      <td>2010</td>\n",
       "      <td>031</td>\n",
       "      <td>170316903002010</td>\n",
       "      <td>POLYGON ((-87.62906799941059 41.76908600007152...</td>\n",
       "      <td>Block 2010</td>\n",
       "      <td>17</td>\n",
       "      <td>6903002010</td>\n",
       "      <td>690300</td>\n",
       "    </tr>\n",
       "  </tbody>\n",
       "</table>\n",
       "</div>"
      ],
      "text/plain": [
       "  blockce10 countyfp10          geoid10  \\\n",
       "0      2010        031  170316903002010   \n",
       "\n",
       "                                            geometry      name10 statefp10  \\\n",
       "0  POLYGON ((-87.62906799941059 41.76908600007152...  Block 2010        17   \n",
       "\n",
       "   tract_bloc tractce10  \n",
       "0  6903002010    690300  "
      ]
     },
     "execution_count": 1,
     "metadata": {},
     "output_type": "execute_result"
    }
   ],
   "source": [
    "import geopandas as gpd\n",
    "import os\n",
    "\n",
    "data_pth = \"./data/boundaries/\"\n",
    "blocks = gpd.read_file(os.path.join(data_pth, \"geo_export_cdf3020f-dc9a-4e8b-ab13-a2db8609750f.shp\"))\n",
    "blocks.head(1)"
   ]
  },
  {
   "cell_type": "code",
   "execution_count": 2,
   "metadata": {
    "collapsed": false
   },
   "outputs": [
    {
     "data": {
      "text/plain": [
       "0    POINT (-87.76374817787998 41.9260371093525)\n",
       "Name: geometry, dtype: object"
      ]
     },
     "execution_count": 2,
     "metadata": {},
     "output_type": "execute_result"
    }
   ],
   "source": [
    "import pandas as pd\n",
    "from geopandas import GeoDataFrame\n",
    "from shapely.geometry import Point\n",
    "\n",
    "complaints = pd.read_csv('./data/sample.csv')\n",
    "\n",
    "geometry = [Point(xy) for xy in zip(complaints.longitude, complaints.latitude)]\n",
    "complaints = complaints.drop(['latitude', 'longitude'], axis=1)\n",
    "crs = {'init': 'epsg:4326'}\n",
    "geo_df = GeoDataFrame(complaints, crs=crs, geometry=geometry)\n",
    "geo_df.head(1).geometry"
   ]
  },
  {
   "cell_type": "code",
   "execution_count": null,
   "metadata": {
    "collapsed": false
   },
   "outputs": [],
   "source": [
    "geo_df.geometry[:5]"
   ]
  },
  {
   "cell_type": "code",
   "execution_count": 4,
   "metadata": {
    "collapsed": false
   },
   "outputs": [
    {
     "ename": "RTreeError",
     "evalue": "Coordinates must not have minimums more than maximums",
     "output_type": "error",
     "traceback": [
      "\u001b[1;31m---------------------------------------------------------------------------\u001b[0m",
      "\u001b[1;31mRTreeError\u001b[0m                                Traceback (most recent call last)",
      "\u001b[1;32m<ipython-input-4-6ad676217030>\u001b[0m in \u001b[0;36m<module>\u001b[1;34m()\u001b[0m\n\u001b[0;32m      1\u001b[0m \u001b[1;32mfrom\u001b[0m \u001b[0mgeopandas\u001b[0m\u001b[1;33m.\u001b[0m\u001b[0mtools\u001b[0m \u001b[1;32mimport\u001b[0m \u001b[0msjoin\u001b[0m\u001b[1;33m\u001b[0m\u001b[0m\n\u001b[1;32m----> 2\u001b[1;33m \u001b[0mcities_with_country\u001b[0m \u001b[1;33m=\u001b[0m \u001b[0msjoin\u001b[0m\u001b[1;33m(\u001b[0m\u001b[0mgeo_df\u001b[0m\u001b[1;33m,\u001b[0m \u001b[0mblocks\u001b[0m\u001b[1;33m,\u001b[0m \u001b[0mhow\u001b[0m\u001b[1;33m=\u001b[0m\u001b[1;34m\"left\"\u001b[0m\u001b[1;33m)\u001b[0m\u001b[1;33m\u001b[0m\u001b[0m\n\u001b[0m",
      "\u001b[1;32m/usr/local/lib/python3.4/dist-packages/geopandas/tools/sjoin.py\u001b[0m in \u001b[0;36msjoin\u001b[1;34m(left_df, right_df, how, op, lsuffix, rsuffix)\u001b[0m\n\u001b[0;32m     52\u001b[0m \u001b[1;33m\u001b[0m\u001b[0m\n\u001b[0;32m     53\u001b[0m     idxmatch = (left_df['geometry'].apply(lambda x: x.bounds)\n\u001b[1;32m---> 54\u001b[1;33m                 .apply(lambda x: list(tree_idx.intersection(x))))\n\u001b[0m\u001b[0;32m     55\u001b[0m     \u001b[0midxmatch\u001b[0m \u001b[1;33m=\u001b[0m \u001b[0midxmatch\u001b[0m\u001b[1;33m[\u001b[0m\u001b[0midxmatch\u001b[0m\u001b[1;33m.\u001b[0m\u001b[0mapply\u001b[0m\u001b[1;33m(\u001b[0m\u001b[0mlen\u001b[0m\u001b[1;33m)\u001b[0m \u001b[1;33m>\u001b[0m \u001b[1;36m0\u001b[0m\u001b[1;33m]\u001b[0m\u001b[1;33m\u001b[0m\u001b[0m\n\u001b[0;32m     56\u001b[0m \u001b[1;33m\u001b[0m\u001b[0m\n",
      "\u001b[1;32m/usr/local/lib/python3.4/dist-packages/pandas/core/series.py\u001b[0m in \u001b[0;36mapply\u001b[1;34m(self, func, convert_dtype, args, **kwds)\u001b[0m\n\u001b[0;32m   2290\u001b[0m             \u001b[1;32melse\u001b[0m\u001b[1;33m:\u001b[0m\u001b[1;33m\u001b[0m\u001b[0m\n\u001b[0;32m   2291\u001b[0m                 \u001b[0mvalues\u001b[0m \u001b[1;33m=\u001b[0m \u001b[0mself\u001b[0m\u001b[1;33m.\u001b[0m\u001b[0masobject\u001b[0m\u001b[1;33m\u001b[0m\u001b[0m\n\u001b[1;32m-> 2292\u001b[1;33m                 \u001b[0mmapped\u001b[0m \u001b[1;33m=\u001b[0m \u001b[0mlib\u001b[0m\u001b[1;33m.\u001b[0m\u001b[0mmap_infer\u001b[0m\u001b[1;33m(\u001b[0m\u001b[0mvalues\u001b[0m\u001b[1;33m,\u001b[0m \u001b[0mf\u001b[0m\u001b[1;33m,\u001b[0m \u001b[0mconvert\u001b[0m\u001b[1;33m=\u001b[0m\u001b[0mconvert_dtype\u001b[0m\u001b[1;33m)\u001b[0m\u001b[1;33m\u001b[0m\u001b[0m\n\u001b[0m\u001b[0;32m   2293\u001b[0m \u001b[1;33m\u001b[0m\u001b[0m\n\u001b[0;32m   2294\u001b[0m         \u001b[1;32mif\u001b[0m \u001b[0mlen\u001b[0m\u001b[1;33m(\u001b[0m\u001b[0mmapped\u001b[0m\u001b[1;33m)\u001b[0m \u001b[1;32mand\u001b[0m \u001b[0misinstance\u001b[0m\u001b[1;33m(\u001b[0m\u001b[0mmapped\u001b[0m\u001b[1;33m[\u001b[0m\u001b[1;36m0\u001b[0m\u001b[1;33m]\u001b[0m\u001b[1;33m,\u001b[0m \u001b[0mSeries\u001b[0m\u001b[1;33m)\u001b[0m\u001b[1;33m:\u001b[0m\u001b[1;33m\u001b[0m\u001b[0m\n",
      "\u001b[1;32mpandas/src/inference.pyx\u001b[0m in \u001b[0;36mpandas.lib.map_infer (pandas/lib.c:63844)\u001b[1;34m()\u001b[0m\n",
      "\u001b[1;32m/usr/local/lib/python3.4/dist-packages/geopandas/tools/sjoin.py\u001b[0m in \u001b[0;36m<lambda>\u001b[1;34m(x)\u001b[0m\n\u001b[0;32m     52\u001b[0m \u001b[1;33m\u001b[0m\u001b[0m\n\u001b[0;32m     53\u001b[0m     idxmatch = (left_df['geometry'].apply(lambda x: x.bounds)\n\u001b[1;32m---> 54\u001b[1;33m                 .apply(lambda x: list(tree_idx.intersection(x))))\n\u001b[0m\u001b[0;32m     55\u001b[0m     \u001b[0midxmatch\u001b[0m \u001b[1;33m=\u001b[0m \u001b[0midxmatch\u001b[0m\u001b[1;33m[\u001b[0m\u001b[0midxmatch\u001b[0m\u001b[1;33m.\u001b[0m\u001b[0mapply\u001b[0m\u001b[1;33m(\u001b[0m\u001b[0mlen\u001b[0m\u001b[1;33m)\u001b[0m \u001b[1;33m>\u001b[0m \u001b[1;36m0\u001b[0m\u001b[1;33m]\u001b[0m\u001b[1;33m\u001b[0m\u001b[0m\n\u001b[0;32m     56\u001b[0m \u001b[1;33m\u001b[0m\u001b[0m\n",
      "\u001b[1;32m/usr/local/lib/python3.4/dist-packages/rtree/index.py\u001b[0m in \u001b[0;36mintersection\u001b[1;34m(self, coordinates, objects)\u001b[0m\n\u001b[0;32m    452\u001b[0m             \u001b[1;32mreturn\u001b[0m \u001b[0mself\u001b[0m\u001b[1;33m.\u001b[0m\u001b[0m_intersection_obj\u001b[0m\u001b[1;33m(\u001b[0m\u001b[0mcoordinates\u001b[0m\u001b[1;33m,\u001b[0m \u001b[0mobjects\u001b[0m\u001b[1;33m)\u001b[0m\u001b[1;33m\u001b[0m\u001b[0m\n\u001b[0;32m    453\u001b[0m \u001b[1;33m\u001b[0m\u001b[0m\n\u001b[1;32m--> 454\u001b[1;33m         \u001b[0mp_mins\u001b[0m\u001b[1;33m,\u001b[0m \u001b[0mp_maxs\u001b[0m \u001b[1;33m=\u001b[0m \u001b[0mself\u001b[0m\u001b[1;33m.\u001b[0m\u001b[0mget_coordinate_pointers\u001b[0m\u001b[1;33m(\u001b[0m\u001b[0mcoordinates\u001b[0m\u001b[1;33m)\u001b[0m\u001b[1;33m\u001b[0m\u001b[0m\n\u001b[0m\u001b[0;32m    455\u001b[0m \u001b[1;33m\u001b[0m\u001b[0m\n\u001b[0;32m    456\u001b[0m         \u001b[0mp_num_results\u001b[0m \u001b[1;33m=\u001b[0m \u001b[0mctypes\u001b[0m\u001b[1;33m.\u001b[0m\u001b[0mc_uint64\u001b[0m\u001b[1;33m(\u001b[0m\u001b[1;36m0\u001b[0m\u001b[1;33m)\u001b[0m\u001b[1;33m\u001b[0m\u001b[0m\n",
      "\u001b[1;32m/usr/local/lib/python3.4/dist-packages/rtree/index.py\u001b[0m in \u001b[0;36mget_coordinate_pointers\u001b[1;34m(self, coordinates)\u001b[0m\n\u001b[0;32m    318\u001b[0m             \u001b[1;32mif\u001b[0m \u001b[1;32mnot\u001b[0m \u001b[0mcoordinates\u001b[0m\u001b[1;33m[\u001b[0m\u001b[0mi\u001b[0m\u001b[1;33m]\u001b[0m \u001b[1;33m<=\u001b[0m \u001b[0mcoordinates\u001b[0m\u001b[1;33m[\u001b[0m\u001b[0mi\u001b[0m \u001b[1;33m+\u001b[0m \u001b[0mdimension\u001b[0m\u001b[1;33m]\u001b[0m\u001b[1;33m:\u001b[0m\u001b[1;33m\u001b[0m\u001b[0m\n\u001b[0;32m    319\u001b[0m                 raise core.RTreeError(\n\u001b[1;32m--> 320\u001b[1;33m                     \"Coordinates must not have minimums more than maximums\")\n\u001b[0m\u001b[0;32m    321\u001b[0m \u001b[1;33m\u001b[0m\u001b[0m\n\u001b[0;32m    322\u001b[0m         p_mins = mins(\n",
      "\u001b[1;31mRTreeError\u001b[0m: Coordinates must not have minimums more than maximums"
     ]
    }
   ],
   "source": [
    "from geopandas.tools import sjoin\n",
    "cities_with_country = sjoin(geo_df, blocks, how=\"left\")"
   ]
  },
  {
   "cell_type": "code",
   "execution_count": null,
   "metadata": {
    "collapsed": false,
    "deletable": true,
    "editable": true
   },
   "outputs": [],
   "source": [
    "geo_df.loc[10]"
   ]
  },
  {
   "cell_type": "markdown",
   "metadata": {
    "deletable": true,
    "editable": true
   },
   "source": [
    "### Problem 3"
   ]
  }
 ],
 "metadata": {
  "kernelspec": {
   "display_name": "Python 3",
   "language": "python",
   "name": "python3"
  },
  "language_info": {
   "codemirror_mode": {
    "name": "ipython",
    "version": 3
   },
   "file_extension": ".py",
   "mimetype": "text/x-python",
   "name": "python",
   "nbconvert_exporter": "python",
   "pygments_lexer": "ipython3",
   "version": "3.4.0"
  }
 },
 "nbformat": 4,
 "nbformat_minor": 0
}
