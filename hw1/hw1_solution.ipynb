{
 "cells": [
  {
   "cell_type": "markdown",
   "metadata": {
    "deletable": true,
    "editable": true
   },
   "source": [
    "# HW 1 - Carlos Alvarado"
   ]
  },
  {
   "cell_type": "markdown",
   "metadata": {
    "deletable": true,
    "editable": true
   },
   "source": [
    "### Problem 1"
   ]
  },
  {
   "cell_type": "code",
   "execution_count": null,
   "metadata": {
    "collapsed": false,
    "deletable": true,
    "editable": true
   },
   "outputs": [],
   "source": [
    "import os\n",
    "import pandas as pd\n",
    "import requests\n",
    "\n",
    "def get_and_load_data(data_info):\n",
    "    '''\n",
    "    Loads \"data_name.csv\" from local disk, or downloads it if it's not present\n",
    "    \n",
    "    Input: dictionary with information about required data\n",
    "    Returns: pandas data_frame for \"data_name\"\n",
    "    '''\n",
    "    \n",
    "    filepath = './data/{}.csv'.format(data_info['source'])\n",
    "    \n",
    "    if os.path.exists(filepath):\n",
    "        data = pd.read_csv(filepath)\n",
    "    else:\n",
    "        data = helper_download_data(filepath, data_name)\n",
    "    \n",
    "    for old_var, new_var in data_info['rename']:\n",
    "        data.rename(index=str, columns={old_var: new_var}, inplace=True)\n",
    "        \n",
    "    return data\n",
    "    \n",
    "def helper_download_data(filepath, data_name):\n",
    "    offset = 0\n",
    "    limit = 50000\n",
    "    data = pd.DataFrame({})\n",
    "    \n",
    "    while True:\n",
    "        \n",
    "        url = 'https://data.cityofchicago.org/resource/{}.json?$limit={}&$offset={}'.format(\n",
    "            data_name, limit, offset)\n",
    "        print('getting data from', url)\n",
    "    \n",
    "        response = requests.get(url)\n",
    "        response_code = response.status_code\n",
    "        \n",
    "        if response_code != 200: \n",
    "            print('Failed to download data')\n",
    "            break\n",
    "            \n",
    "        json_data = response.content\n",
    "\n",
    "        if len(json_data) > 4:\n",
    "            data = pd.concat([data, pd.read_json(json_data)])\n",
    "        \n",
    "            offset = offset + limit\n",
    "        else:\n",
    "            print(json_data)\n",
    "            break\n",
    "            \n",
    "    #save data to csv for future use\n",
    "    data.to_csv(filepath)\n",
    "    \n",
    "    return data\n",
    "    "
   ]
  },
  {
   "cell_type": "code",
   "execution_count": null,
   "metadata": {
    "collapsed": false,
    "deletable": true,
    "editable": true
   },
   "outputs": [],
   "source": [
    "DATA1 = {'name': 'Graffiti Removal',\n",
    "         'source': 'hec5-y4x5',\n",
    "         'rename': [('where_is_the_graffiti_located_', 'Sub Type')]    \n",
    "        }\n",
    "\n",
    "DATA2 = {'name': 'Vacant and Abandoned Buildings Reported',\n",
    "         'source': '7nii-7srd',\n",
    "         'rename': [('is_building_open_or_boarded_', 'Sub Type'), \n",
    "                    ('date_service_request_was_received', 'creation_date')]\n",
    "        }\n",
    "\n",
    "DATA3 = {'name': 'Pot Holes Reported',\n",
    "         'source': '7as2-ds3y',\n",
    "         'rename': [('zip', 'zip_code'), \n",
    "                    ('type_of_service_request', 'Sub Type')]\n",
    "        }\n",
    "    \n",
    "DATA4 = {'name': 'Sanitation Code Complaints',\n",
    "         'source': 'me59-5fac',\n",
    "         'rename': [('what_is_the_nature_of_this_code_violation_', 'Sub Type')]\n",
    "        }\n",
    "\n",
    "SOURCES = [DATA1, DATA2, DATA3, DATA4]\n",
    "\n",
    "complaints = pd.DataFrame({})\n",
    "\n",
    "for db_data in SOURCES:\n",
    "    data = get_and_load_data(db_data)\n",
    "    print(data.columns)\n",
    "    data['Complaint Type'] = db_data['name']\n",
    "    complaints = pd.concat([complaints, data], ignore_index=True)"
   ]
  },
  {
   "cell_type": "code",
   "execution_count": null,
   "metadata": {
    "collapsed": false,
    "deletable": true,
    "editable": true
   },
   "outputs": [],
   "source": [
    "complaints.loc[10]"
   ]
  },
  {
   "cell_type": "code",
   "execution_count": null,
   "metadata": {
    "collapsed": false,
    "deletable": true,
    "editable": true
   },
   "outputs": [],
   "source": [
    "ctcounts = complaints['Complaint Type'].value_counts()\n",
    "ctcounts"
   ]
  },
  {
   "cell_type": "code",
   "execution_count": null,
   "metadata": {
    "collapsed": false,
    "deletable": true,
    "editable": true
   },
   "outputs": [],
   "source": [
    "gb = complaints.groupby(['Complaint Type', 'Sub Type']).size().to_frame()\n",
    "print(gb)"
   ]
  },
  {
   "cell_type": "code",
   "execution_count": null,
   "metadata": {
    "collapsed": false,
    "deletable": true,
    "editable": true
   },
   "outputs": [],
   "source": [
    "gb_community_area = complaints.groupby(['Complaint Type', 'community_area']).size().to_frame()\n",
    "select = gb_community_area['0'] \n",
    "print(gb_community_area)"
   ]
  },
  {
   "cell_type": "markdown",
   "metadata": {
    "deletable": true,
    "editable": true
   },
   "source": [
    "### Problem 2"
   ]
  },
  {
   "cell_type": "code",
   "execution_count": null,
   "metadata": {
    "collapsed": false,
    "deletable": true,
    "editable": true
   },
   "outputs": [],
   "source": [
    "import geopandas as gpd\n",
    "import os\n",
    "\n",
    "data_pth = \"./data/boundaries/\"\n",
    "blocks = gpd.read_file(os.path.join(data_pth, \"geo_export_cdf3020f-dc9a-4e8b-ab13-a2db8609750f.shp\"))\n",
    "blocks.head(5)\n",
    "\n",
    "from geopandas import GeoDataFrame\n",
    "from shapely.geometry import Point\n",
    "\n",
    "geometry = [Point(xy) for xy in zip(complaints.x_coordinate, complaints.y_coordinate)]\n",
    "df = df.drop(['x_coordinate', 'y_coordinate'], axis=1)\n",
    "crs = {'init': 'epsg:4326'}\n",
    "geo_df = GeoDataFrame(df, crs=crs, geometry=geometry)"
   ]
  },
  {
   "cell_type": "code",
   "execution_count": null,
   "metadata": {
    "collapsed": false,
    "deletable": true,
    "editable": true
   },
   "outputs": [],
   "source": [
    "blocks.plot()"
   ]
  },
  {
   "cell_type": "markdown",
   "metadata": {
    "deletable": true,
    "editable": true
   },
   "source": [
    "### Problem 3"
   ]
  }
 ],
 "metadata": {
  "kernelspec": {
   "display_name": "Python 3",
   "language": "python",
   "name": "python3"
  },
  "language_info": {
   "codemirror_mode": {
    "name": "ipython",
    "version": 3
   },
   "file_extension": ".py",
   "mimetype": "text/x-python",
   "name": "python",
   "nbconvert_exporter": "python",
   "pygments_lexer": "ipython3",
   "version": "3.4.3"
  }
 },
 "nbformat": 4,
 "nbformat_minor": 0
}
