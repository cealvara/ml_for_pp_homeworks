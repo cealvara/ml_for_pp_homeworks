{
 "cells": [
  {
   "cell_type": "markdown",
   "metadata": {},
   "source": [
    "# HW 1 - Carlos Alvarado"
   ]
  },
  {
   "cell_type": "markdown",
   "metadata": {},
   "source": [
    "### Problem 1"
   ]
  },
  {
   "cell_type": "code",
   "execution_count": 1,
   "metadata": {
    "collapsed": false
   },
   "outputs": [],
   "source": [
    "import os\n",
    "import pandas as pd\n",
    "import requests\n",
    "\n",
    "def get_and_load_data(data_info):\n",
    "    '''\n",
    "    Loads \"data_name.csv\" from local disk, or downloads it if it's not present\n",
    "    \n",
    "    Input: dictionary with information about required data\n",
    "    Returns: pandas data_frame for \"data_name\"\n",
    "    '''\n",
    "    \n",
    "    filepath = './data/{}.csv'.format(data_info['source'])\n",
    "    \n",
    "    if os.path.exists(filepath):\n",
    "        data = pd.read_csv(filepath)\n",
    "    else:\n",
    "        data = helper_download_data(filepath, data_name)\n",
    "    \n",
    "    for old_var, new_var in data_info['rename']:\n",
    "        data.rename(index=str, columns={old_var: new_var}, inplace=True)\n",
    "        \n",
    "    return data\n",
    "    \n",
    "def helper_download_data(filepath, data_name):\n",
    "    offset = 0\n",
    "    limit = 50000\n",
    "    data = pd.DataFrame({})\n",
    "    \n",
    "    while True:\n",
    "        \n",
    "        url = 'https://data.cityofchicago.org/resource/{}.json?$limit={}&$offset={}'.format(\n",
    "            data_name, limit, offset)\n",
    "        print('getting data from', url)\n",
    "    \n",
    "        response = requests.get(url)\n",
    "        response_code = response.status_code\n",
    "        \n",
    "        if response_code != 200: \n",
    "            print('Failed to download data')\n",
    "            break\n",
    "            \n",
    "        json_data = response.content\n",
    "\n",
    "        if len(json_data) > 4:\n",
    "            data = pd.concat([data, pd.read_json(json_data)])\n",
    "        \n",
    "            offset = offset + limit\n",
    "        else:\n",
    "            print(json_data)\n",
    "            break\n",
    "            \n",
    "    #save data to csv for future use\n",
    "    data.to_csv(filepath)\n",
    "    \n",
    "    return data\n",
    "    "
   ]
  },
  {
   "cell_type": "code",
   "execution_count": 2,
   "metadata": {
    "collapsed": false
   },
   "outputs": [
    {
     "name": "stdout",
     "output_type": "stream",
     "text": [
      "Index(['Unnamed: 0', 'community_area', 'completion_date', 'creation_date',\n",
      "       'latitude', 'location', 'longitude', 'police_district',\n",
      "       'service_request_number', 'ssa', 'status', 'street_address',\n",
      "       'type_of_service_request', 'ward',\n",
      "       'what_type_of_surface_is_the_graffiti_on_', 'Sub Type', 'x_coordinate',\n",
      "       'y_coordinate', 'zip_code'],\n",
      "      dtype='object')\n",
      "Index(['Unnamed: 0', 'address_street_direction', 'address_street_name',\n",
      "       'address_street_number', 'address_street_suffix',\n",
      "       'any_people_using_property_homeless_childen_gangs_', 'community_area',\n",
      "       'creation_date', 'if_the_building_is_open_where_is_the_entry_point_',\n",
      "       'Sub Type', 'is_the_building_currently_vacant_or_occupied_',\n",
      "       'is_the_building_dangerous_or_hazardous_',\n",
      "       'is_the_building_vacant_due_to_fire_', 'latitude', 'location',\n",
      "       'location_of_building_on_the_lot_if_garage_change_type_code_to_bgd_',\n",
      "       'longitude', 'police_district', 'service_request_number',\n",
      "       'service_request_type', 'ward', 'x_coordinate', 'y_coordinate',\n",
      "       'zip_code'],\n",
      "      dtype='object')\n",
      "Index(['Unnamed: 0', 'community_area', 'completion_date', 'creation_date',\n",
      "       'current_activity', 'latitude', 'location', 'longitude',\n",
      "       'most_recent_action', 'number_of_potholes_filled_on_block',\n",
      "       'police_district', 'service_request_number', 'ssa', 'status',\n",
      "       'street_address', 'Sub Type', 'ward', 'x_coordinate', 'y_coordinate',\n",
      "       'zip_code'],\n",
      "      dtype='object')\n",
      "Index(['Unnamed: 0', 'community_area', 'completion_date', 'creation_date',\n",
      "       'latitude', 'location', 'longitude', 'police_district',\n",
      "       'service_request_number', 'status', 'street_address',\n",
      "       'type_of_service_request', 'ward', 'Sub Type', 'x_coordinate',\n",
      "       'y_coordinate', 'zip_code'],\n",
      "      dtype='object')\n"
     ]
    },
    {
     "name": "stderr",
     "output_type": "stream",
     "text": [
      "/usr/local/lib/python3.4/dist-packages/IPython/core/interactiveshell.py:3006: DtypeWarning: Columns (3,11) have mixed types. Specify dtype option on import or set low_memory=False.\n",
      "  if self.run_code(code, result):\n"
     ]
    }
   ],
   "source": [
    "DATA1 = {'name': 'Graffiti Removal',\n",
    "         'source': 'hec5-y4x5',\n",
    "         'rename': [('where_is_the_graffiti_located_', 'Sub Type')]    \n",
    "        }\n",
    "\n",
    "DATA2 = {'name': 'Vacant and Abandoned Buildings Reported',\n",
    "         'source': '7nii-7srd',\n",
    "         'rename': [('is_building_open_or_boarded_', 'Sub Type'), \n",
    "                    ('date_service_request_was_received', 'creation_date')]\n",
    "        }\n",
    "\n",
    "DATA3 = {'name': 'Pot Holes Reported',\n",
    "         'source': '7as2-ds3y',\n",
    "         'rename': [('zip', 'zip_code'), \n",
    "                    ('type_of_service_request', 'Sub Type')]\n",
    "        }\n",
    "    \n",
    "DATA4 = {'name': 'Sanitation Code Complaints',\n",
    "         'source': 'me59-5fac',\n",
    "         'rename': [('what_is_the_nature_of_this_code_violation_', 'Sub Type')]\n",
    "        }\n",
    "\n",
    "SOURCES = [DATA1, DATA2, DATA3, DATA4]\n",
    "\n",
    "complaints = pd.DataFrame({})\n",
    "\n",
    "for db_data in SOURCES:\n",
    "    data = get_and_load_data(db_data)\n",
    "    print(data.columns)\n",
    "    data['Complaint Type'] = db_data['name']\n",
    "    complaints = pd.concat([complaints, data], ignore_index=True)"
   ]
  },
  {
   "cell_type": "code",
   "execution_count": null,
   "metadata": {
    "collapsed": false
   },
   "outputs": [],
   "source": [
    "complaints.loc[10]"
   ]
  },
  {
   "cell_type": "code",
   "execution_count": 19,
   "metadata": {
    "collapsed": false
   },
   "outputs": [
    {
     "data": {
      "text/plain": [
       "Graffiti Removal                           854622\n",
       "Pot Holes Reported                         457442\n",
       "Sanitation Code Complaints                 118761\n",
       "Vacant and Abandoned Buildings Reported     58716\n",
       "Name: Complaint Type, dtype: int64"
      ]
     },
     "execution_count": 19,
     "metadata": {},
     "output_type": "execute_result"
    }
   ],
   "source": [
    "ctcounts = complaints['Complaint Type'].value_counts()\n",
    "ctcounts"
   ]
  },
  {
   "cell_type": "code",
   "execution_count": 36,
   "metadata": {
    "collapsed": false
   },
   "outputs": [
    {
     "name": "stdout",
     "output_type": "stream",
     "text": [
      "                                                                                         0\n",
      "Complaint Type                          Sub Type                                          \n",
      "Graffiti Removal                        Alley                                        35316\n",
      "                                        Bench                                         2722\n",
      "                                        Door                                         22303\n",
      "                                        Dumpster                                     14342\n",
      "                                        Express Way Job                               1610\n",
      "                                        Fence                                        16245\n",
      "                                        Front                                       310521\n",
      "                                        Garage                                      100033\n",
      "                                        Garbage Cart                                  6293\n",
      "                                        Hydrant                                        408\n",
      "                                        Mail Box                                     10174\n",
      "                                        Newspaper Box                                 6512\n",
      "                                        Overpass                                       968\n",
      "                                        Phone                                          564\n",
      "                                        Pole                                         54532\n",
      "                                        Rear                                         63917\n",
      "                                        Side                                        148543\n",
      "                                        Sign                                         18023\n",
      "                                        Traffic Control Box                          29071\n",
      "                                        Viaduct                                       7075\n",
      "Pot Holes Reported                      Pot Hole in Street                          236060\n",
      "                                        Pothole in Street                           221382\n",
      "Sanitation Code Complaints              Construction Site Cleanliness/Fence           4181\n",
      "                                        Dog feces in yard                             6345\n",
      "                                        Dumpster not being emptied                    9210\n",
      "                                        Garbage in alley                             18004\n",
      "                                        Garbage in yard                              21531\n",
      "                                        Graffiti Commercial Vehicle                     88\n",
      "                                        Other                                        44555\n",
      "                                        Overflowing carts                             8928\n",
      "                                        Standing water                                1145\n",
      "                                        WHAT IS THE NATURE OF THIS CODE VIOLATION?       1\n",
      "Vacant and Abandoned Buildings Reported Boarded                                       6338\n",
      "                                        Building is Boarded Up                          33\n",
      "                                        Building is Open / Unsecure                    258\n",
      "                                        IS BUILDING OPEN OR BOARDED?                     1\n",
      "                                        Open                                         44712\n"
     ]
    }
   ],
   "source": [
    "gb = complaints.groupby(['Complaint Type', 'Sub Type']).size().to_frame()\n",
    "print(gb)"
   ]
  },
  {
   "cell_type": "code",
   "execution_count": 37,
   "metadata": {
    "collapsed": false
   },
   "outputs": [
    {
     "name": "stdout",
     "output_type": "stream",
     "text": [
      "                                                            0\n",
      "Complaint Type                          community_area       \n",
      "Graffiti Removal                        0                 268\n",
      "                                        1               12334\n",
      "                                        2               17053\n",
      "                                        3               11907\n",
      "                                        4               18178\n",
      "                                        5               17562\n",
      "                                        6               23748\n",
      "                                        7               15078\n",
      "                                        8               11588\n",
      "                                        9                 234\n",
      "                                        10               1523\n",
      "                                        11               3458\n",
      "                                        12               1271\n",
      "                                        13               4860\n",
      "                                        14              22778\n",
      "                                        15              18735\n",
      "                                        16              30908\n",
      "                                        17               5372\n",
      "                                        18               2211\n",
      "                                        19              38359\n",
      "                                        20              11583\n",
      "                                        21              33123\n",
      "                                        22              55043\n",
      "                                        23              12787\n",
      "                                        24              57806\n",
      "                                        25               6177\n",
      "                                        26               1387\n",
      "                                        27               2200\n",
      "                                        28              17146\n",
      "                                        29               4574\n",
      "...                                                       ...\n",
      "Vacant and Abandoned Buildings Reported 48                541\n",
      "                                        49               3259\n",
      "                                        50                347\n",
      "                                        51                584\n",
      "                                        52                321\n",
      "                                        53               2466\n",
      "                                        54                154\n",
      "                                        55                150\n",
      "                                        56                253\n",
      "                                        57                181\n",
      "                                        58                531\n",
      "                                        59                167\n",
      "                                        60                266\n",
      "                                        61               2483\n",
      "                                        62                144\n",
      "                                        63                658\n",
      "                                        64                142\n",
      "                                        65                274\n",
      "                                        66               2034\n",
      "                                        67               5500\n",
      "                                        68               3821\n",
      "                                        69               2302\n",
      "                                        70                503\n",
      "                                        71               2609\n",
      "                                        72                182\n",
      "                                        73               1021\n",
      "                                        74                136\n",
      "                                        75                685\n",
      "                                        76                  8\n",
      "                                        77                135\n",
      "\n",
      "[312 rows x 1 columns]\n"
     ]
    }
   ],
   "source": [
    "gb_community_area = complaints.groupby(['Complaint Type', 'community_area']).size().to_frame()\n",
    "select = gb_community_area['0'] \n",
    "print(gb_community_area)"
   ]
  },
  {
   "cell_type": "markdown",
   "metadata": {},
   "source": [
    "### Problem 2"
   ]
  },
  {
   "cell_type": "code",
   "execution_count": 4,
   "metadata": {
    "collapsed": false
   },
   "outputs": [
    {
     "data": {
      "text/html": [
       "<div>\n",
       "<table border=\"1\" class=\"dataframe\">\n",
       "  <thead>\n",
       "    <tr style=\"text-align: right;\">\n",
       "      <th></th>\n",
       "      <th>blockce10</th>\n",
       "      <th>countyfp10</th>\n",
       "      <th>geoid10</th>\n",
       "      <th>geometry</th>\n",
       "      <th>name10</th>\n",
       "      <th>statefp10</th>\n",
       "      <th>tract_bloc</th>\n",
       "      <th>tractce10</th>\n",
       "    </tr>\n",
       "  </thead>\n",
       "  <tbody>\n",
       "    <tr>\n",
       "      <th>0</th>\n",
       "      <td>2010</td>\n",
       "      <td>031</td>\n",
       "      <td>170316903002010</td>\n",
       "      <td>POLYGON ((-87.62906799941059 41.76908600007152...</td>\n",
       "      <td>Block 2010</td>\n",
       "      <td>17</td>\n",
       "      <td>6903002010</td>\n",
       "      <td>690300</td>\n",
       "    </tr>\n",
       "    <tr>\n",
       "      <th>1</th>\n",
       "      <td>3007</td>\n",
       "      <td>031</td>\n",
       "      <td>170316809003007</td>\n",
       "      <td>POLYGON ((-87.6341179992764 41.77446599958471,...</td>\n",
       "      <td>Block 3007</td>\n",
       "      <td>17</td>\n",
       "      <td>6809003007</td>\n",
       "      <td>680900</td>\n",
       "    </tr>\n",
       "    <tr>\n",
       "      <th>2</th>\n",
       "      <td>3013</td>\n",
       "      <td>031</td>\n",
       "      <td>170316809003013</td>\n",
       "      <td>POLYGON ((-87.63485400018324 41.77263300022619...</td>\n",
       "      <td>Block 3013</td>\n",
       "      <td>17</td>\n",
       "      <td>6809003013</td>\n",
       "      <td>680900</td>\n",
       "    </tr>\n",
       "    <tr>\n",
       "      <th>3</th>\n",
       "      <td>4019</td>\n",
       "      <td>031</td>\n",
       "      <td>170312909004019</td>\n",
       "      <td>POLYGON ((-87.73841099998789 41.85913100037079...</td>\n",
       "      <td>Block 4019</td>\n",
       "      <td>17</td>\n",
       "      <td>2909004019</td>\n",
       "      <td>290900</td>\n",
       "    </tr>\n",
       "    <tr>\n",
       "      <th>4</th>\n",
       "      <td>4016</td>\n",
       "      <td>031</td>\n",
       "      <td>170312925004016</td>\n",
       "      <td>POLYGON ((-87.73217300001724 41.85476400046529...</td>\n",
       "      <td>Block 4016</td>\n",
       "      <td>17</td>\n",
       "      <td>2925004016</td>\n",
       "      <td>292500</td>\n",
       "    </tr>\n",
       "  </tbody>\n",
       "</table>\n",
       "</div>"
      ],
      "text/plain": [
       "  blockce10 countyfp10          geoid10  \\\n",
       "0      2010        031  170316903002010   \n",
       "1      3007        031  170316809003007   \n",
       "2      3013        031  170316809003013   \n",
       "3      4019        031  170312909004019   \n",
       "4      4016        031  170312925004016   \n",
       "\n",
       "                                            geometry      name10 statefp10  \\\n",
       "0  POLYGON ((-87.62906799941059 41.76908600007152...  Block 2010        17   \n",
       "1  POLYGON ((-87.6341179992764 41.77446599958471,...  Block 3007        17   \n",
       "2  POLYGON ((-87.63485400018324 41.77263300022619...  Block 3013        17   \n",
       "3  POLYGON ((-87.73841099998789 41.85913100037079...  Block 4019        17   \n",
       "4  POLYGON ((-87.73217300001724 41.85476400046529...  Block 4016        17   \n",
       "\n",
       "   tract_bloc tractce10  \n",
       "0  6903002010    690300  \n",
       "1  6809003007    680900  \n",
       "2  6809003013    680900  \n",
       "3  2909004019    290900  \n",
       "4  2925004016    292500  "
      ]
     },
     "execution_count": 4,
     "metadata": {},
     "output_type": "execute_result"
    }
   ],
   "source": [
    "import geopandas as gpd\n",
    "import os\n",
    "\n",
    "data_pth = \"./data/boundaries/\"\n",
    "blocks = gpd.read_file(os.path.join(data_pth, \"geo_export_cdf3020f-dc9a-4e8b-ab13-a2db8609750f.shp\"))\n",
    "blocks.head(5)\n",
    "\n",
    "from geopandas import GeoDataFrame\n",
    "from shapely.geometry import Point\n",
    "\n",
    "geometry = [Point(xy) for xy in zip(df.Lon, df.Lat)]\n",
    "df = df.drop(['Lon', 'Lat'], axis=1)\n",
    "crs = {'init': 'epsg:4326'}\n",
    "geo_df = GeoDataFrame(df, crs=crs, geometry=geometry)"
   ]
  },
  {
   "cell_type": "code",
   "execution_count": null,
   "metadata": {
    "collapsed": false
   },
   "outputs": [],
   "source": [
    "blocks.plot()"
   ]
  },
  {
   "cell_type": "markdown",
   "metadata": {},
   "source": [
    "### Problem 3"
   ]
  }
 ],
 "metadata": {
  "kernelspec": {
   "display_name": "Python 3",
   "language": "python",
   "name": "python3"
  },
  "language_info": {
   "codemirror_mode": {
    "name": "ipython",
    "version": 3
   },
   "file_extension": ".py",
   "mimetype": "text/x-python",
   "name": "python",
   "nbconvert_exporter": "python",
   "pygments_lexer": "ipython3",
   "version": "3.4.0"
  }
 },
 "nbformat": 4,
 "nbformat_minor": 0
}
