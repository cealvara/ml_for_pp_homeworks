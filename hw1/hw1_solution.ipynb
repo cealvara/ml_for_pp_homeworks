{
 "cells": [
  {
   "cell_type": "markdown",
   "metadata": {
    "deletable": true,
    "editable": true
   },
   "source": [
    "# HW 1 - Carlos Alvarado"
   ]
  },
  {
   "cell_type": "markdown",
   "metadata": {
    "deletable": true,
    "editable": true
   },
   "source": [
    "### Problem 1 - CODE"
   ]
  },
  {
   "cell_type": "code",
   "execution_count": 31,
   "metadata": {
    "collapsed": false,
    "deletable": true,
    "editable": true
   },
   "outputs": [],
   "source": [
    "import geopandas as gpd\n",
    "import os\n",
    "import pandas as pd\n",
    "import requests\n",
    "import datetime\n",
    "\n",
    "def get_and_load_data(data_info):\n",
    "    '''\n",
    "    Loads \"data_name.csv\" from local disk, or downloads it if it's not present\n",
    "    \n",
    "    Input: dictionary with information about required data\n",
    "    Returns: pandas data_frame for \"data_name\"\n",
    "    '''\n",
    "    \n",
    "    filepath = './data/{}.csv'.format(data_info['source'])\n",
    "    \n",
    "    if os.path.exists(filepath):\n",
    "        data = pd.read_csv(filepath)\n",
    "    else:\n",
    "        data = helper_download_data(filepath, data_info['source'], data_info['datevar'])\n",
    "    \n",
    "    for old_var, new_var in data_info['rename']:\n",
    "        data.rename(index=str, columns={old_var: new_var}, inplace=True)\n",
    "        \n",
    "    return data\n",
    "    \n",
    "def helper_download_data(filepath, data_name, datevar):\n",
    "    offset = 0\n",
    "    limit = 50000\n",
    "    data = pd.DataFrame({})\n",
    "    last_year = (datetime.datetime.now() - datetime.timedelta(days=365)).strftime('%Y-%m-%d')\n",
    "\n",
    "    while True:\n",
    "        \n",
    "        url = 'https://data.cityofchicago.org/resource/' + \\\n",
    "              \"{}.json?$order=service_request_number DESC &$limit={}&$offset={}&$where= {} > '{}'\".format(\n",
    "              data_name, limit, offset, datevar, last_year)\n",
    "        print('getting data from', url)\n",
    "    \n",
    "        response = requests.get(url)\n",
    "        response_code = response.status_code\n",
    "        \n",
    "        if response_code != 200: \n",
    "            print('Failed to download data')\n",
    "            return data\n",
    "            \n",
    "        json_data = response.content\n",
    "\n",
    "        if len(json_data) > 4:\n",
    "            data = pd.concat([data, pd.read_json(json_data)])\n",
    "        \n",
    "            offset = offset + limit\n",
    "        else:\n",
    "            print(json_data)\n",
    "            break\n",
    "            \n",
    "    #save data to csv for future use\n",
    "    data.to_csv(filepath)\n",
    "    \n",
    "    return data    "
   ]
  },
  {
   "cell_type": "code",
   "execution_count": 32,
   "metadata": {
    "collapsed": false,
    "deletable": true,
    "editable": true
   },
   "outputs": [
    {
     "name": "stdout",
     "output_type": "stream",
     "text": [
      "Index(['Unnamed: 0', 'community_area', 'completion_date', 'creation_date',\n",
      "       'latitude', 'location', 'longitude', 'police_district',\n",
      "       'service_request_number', 'ssa', 'status', 'street_address',\n",
      "       'type_of_service_request', 'ward',\n",
      "       'what_type_of_surface_is_the_graffiti_on_', 'Sub Type', 'x_coordinate',\n",
      "       'y_coordinate', 'zip_code'],\n",
      "      dtype='object')\n",
      "Index(['Unnamed: 0', 'address_street_direction', 'address_street_name',\n",
      "       'address_street_number', 'address_street_suffix',\n",
      "       'any_people_using_property_homeless_childen_gangs_', 'community_area',\n",
      "       'creation_date', 'if_the_building_is_open_where_is_the_entry_point_',\n",
      "       'Sub Type', 'is_the_building_currently_vacant_or_occupied_',\n",
      "       'is_the_building_vacant_due_to_fire_', 'latitude', 'location',\n",
      "       'location_of_building_on_the_lot_if_garage_change_type_code_to_bgd_',\n",
      "       'longitude', 'police_district', 'service_request_number',\n",
      "       'service_request_type', 'ward', 'x_coordinate', 'y_coordinate',\n",
      "       'zip_code'],\n",
      "      dtype='object')\n",
      "getting data from https://data.cityofchicago.org/resource/7as2-ds3y.json?$order=service_request_number DESC &$limit=50000&$offset=0&$where= creation_date > '2016-04-03'\n",
      "getting data from https://data.cityofchicago.org/resource/7as2-ds3y.json?$order=service_request_number DESC &$limit=50000&$offset=50000&$where= creation_date > '2016-04-03'\n",
      "getting data from https://data.cityofchicago.org/resource/7as2-ds3y.json?$order=service_request_number DESC &$limit=50000&$offset=100000&$where= creation_date > '2016-04-03'\n",
      "b'[ ]'\n",
      "Index(['community_area', 'completion_date', 'creation_date',\n",
      "       'current_activity', 'latitude', 'location', 'longitude',\n",
      "       'most_recent_action', 'number_of_potholes_filled_on_block',\n",
      "       'police_district', 'service_request_number', 'ssa', 'status',\n",
      "       'street_address', 'Sub Type', 'ward', 'x_coordinate', 'y_coordinate',\n",
      "       'zip_code'],\n",
      "      dtype='object')\n",
      "getting data from https://data.cityofchicago.org/resource/me59-5fac.json?$order=service_request_number DESC &$limit=50000&$offset=0&$where= creation_date > '2016-04-03'\n",
      "getting data from https://data.cityofchicago.org/resource/me59-5fac.json?$order=service_request_number DESC &$limit=50000&$offset=50000&$where= creation_date > '2016-04-03'\n",
      "b'[ ]'\n",
      "Index(['community_area', 'completion_date', 'creation_date', 'latitude',\n",
      "       'location', 'longitude', 'police_district', 'service_request_number',\n",
      "       'status', 'street_address', 'type_of_service_request', 'ward',\n",
      "       'Sub Type', 'x_coordinate', 'y_coordinate', 'zip_code'],\n",
      "      dtype='object')\n"
     ]
    }
   ],
   "source": [
    "# Loading complaints data. Added community names.\n",
    "\n",
    "DATA1 = {'name': 'Graffiti Removal',\n",
    "         'source': 'hec5-y4x5',\n",
    "         'datevar': 'creation_date',\n",
    "         'rename': [('where_is_the_graffiti_located_', 'Sub Type')]    \n",
    "        }\n",
    "\n",
    "DATA2 = {'name': 'Vacant and Abandoned Buildings Reported',\n",
    "         'source': '7nii-7srd',\n",
    "         'datevar': 'date_service_request_was_received',\n",
    "         'rename': [('is_building_open_or_boarded_', 'Sub Type'), \n",
    "                    ('date_service_request_was_received', 'creation_date')]\n",
    "        }\n",
    "\n",
    "DATA3 = {'name': 'Pot Holes Reported',\n",
    "         'source': '7as2-ds3y',\n",
    "         'datevar': 'creation_date',\n",
    "         'rename': [('zip', 'zip_code'), \n",
    "                    ('type_of_service_request', 'Sub Type')]\n",
    "        }\n",
    "    \n",
    "DATA4 = {'name': 'Sanitation Code Complaints',\n",
    "         'source': 'me59-5fac',\n",
    "         'datevar': 'creation_date',         \n",
    "         'rename': [('what_is_the_nature_of_this_code_violation_', 'Sub Type')]\n",
    "        }\n",
    "\n",
    "SOURCES = [DATA1, DATA2, DATA3, DATA4]\n",
    "\n",
    "complaints = pd.DataFrame({})\n",
    "\n",
    "for db_data in SOURCES:\n",
    "    data = get_and_load_data(db_data)\n",
    "    if not data.empty:\n",
    "        print(data.columns)\n",
    "        data['Complaint Type'] = db_data['name']\n",
    "        complaints = pd.concat([complaints, data], ignore_index=True)\n",
    "\n",
    "area_names_file = \"./data/boundaries/Boundaries - Community Areas (current).geojson\"\n",
    "area_names = gpd.read_file(area_names_file)\n",
    "area_names['area_numbe'] = pd.to_numeric(area_names.area_numbe, errors='coerce')\n",
    "\n",
    "complaints = complaints.merge(area_names, left_on='community_area', right_on='area_numbe', how='left')"
   ]
  },
  {
   "cell_type": "code",
   "execution_count": 7,
   "metadata": {
    "collapsed": false
   },
   "outputs": [],
   "source": [
    "#create sample database to play with\n",
    "complaints.sample(1000).to_csv('./data/sample.csv')"
   ]
  },
  {
   "cell_type": "code",
   "execution_count": 108,
   "metadata": {
    "collapsed": false
   },
   "outputs": [],
   "source": [
    "# GRAPH NUMBER OF REQUESTS BY MONTH AND TYPE\n",
    "from pandas import TimeGrouper\n",
    "from matplotlib import pyplot\n",
    "import numpy as np\n",
    "\n",
    "n_per_month = complaints[['creation_date', 'Complaint Type', 'service_request_number']].groupby(['creation_date', 'Complaint Type'], as_index=False).count()\n",
    "n_per_month = n_per_month.pivot(index='creation_date', columns='Complaint Type', values='service_request_number')\n",
    "n_per_month = n_per_month.set_index(pd.DatetimeIndex(n_per_month.index))\n",
    "\n",
    "n_per_month = n_per_month[n_per_month.index < '2017-04-01']\n",
    "\n",
    "groups = n_per_month.groupby(TimeGrouper('M')).aggregate(np.sum)\n",
    "\n",
    "groups.plot(figsize=(15,10), ylim=(0,15000), title='Number of requests by month and type')\n",
    "pyplot.show()"
   ]
  },
  {
   "cell_type": "code",
   "execution_count": 34,
   "metadata": {
    "collapsed": false
   },
   "outputs": [
    {
     "data": {
      "text/plain": [
       "WEST TOWN             12398\n",
       "LOGAN SQUARE           9629\n",
       "SOUTH LAWNDALE         6735\n",
       "BRIGHTON PARK          6615\n",
       "AVONDALE               6301\n",
       "LAKE VIEW              6226\n",
       "LOWER WEST SIDE        5993\n",
       "IRVING PARK            5845\n",
       "BELMONT CRAGIN         5098\n",
       "GAGE PARK              4881\n",
       "ALBANY PARK            4832\n",
       "LINCOLN SQUARE         4563\n",
       "NORTH CENTER           4559\n",
       "WEST RIDGE             4422\n",
       "NEAR WEST SIDE         4351\n",
       "LINCOLN PARK           4307\n",
       "PORTAGE PARK           3975\n",
       "CHICAGO LAWN           3764\n",
       "ARCHER HEIGHTS         3740\n",
       "ASHBURN                3739\n",
       "MCKINLEY PARK          3700\n",
       "HUMBOLDT PARK          3455\n",
       "WEST ELSDON            3434\n",
       "WEST LAWN              3363\n",
       "AUSTIN                 3178\n",
       "NEW CITY               2977\n",
       "LOOP                   2928\n",
       "NEAR NORTH SIDE        2882\n",
       "GARFIELD RIDGE         2880\n",
       "EDGEWATER              2802\n",
       "                      ...  \n",
       "WASHINGTON HEIGHTS     1452\n",
       "CHATHAM                1381\n",
       "FOREST GLEN            1327\n",
       "JEFFERSON PARK         1275\n",
       "MORGAN PARK            1263\n",
       "BEVERLY                1116\n",
       "MOUNT GREENWOOD        1090\n",
       "CLEARING               1082\n",
       "ARMOUR SQUARE          1020\n",
       "SOUTH DEERING           981\n",
       "EAST GARFIELD PARK      897\n",
       "WOODLAWN                868\n",
       "CALUMET HEIGHTS         819\n",
       "HYDE PARK               782\n",
       "WEST GARFIELD PARK      715\n",
       "GRAND BOULEVARD         692\n",
       "AVALON PARK             665\n",
       "NEAR SOUTH SIDE         664\n",
       "HEGEWISCH               642\n",
       "EDISON PARK             634\n",
       "MONTCLARE               617\n",
       "PULLMAN                 380\n",
       "OHARE                   366\n",
       "WASHINGTON PARK         331\n",
       "DOUGLAS                 322\n",
       "KENWOOD                 309\n",
       "BURNSIDE                227\n",
       "RIVERDALE               217\n",
       "FULLER PARK             209\n",
       "OAKLAND                 104\n",
       "Name: community, dtype: int64"
      ]
     },
     "execution_count": 34,
     "metadata": {},
     "output_type": "execute_result"
    }
   ],
   "source": [
    "complaints.community.value_counts()"
   ]
  },
  {
   "cell_type": "code",
   "execution_count": 3,
   "metadata": {
    "collapsed": false,
    "deletable": true,
    "editable": true
   },
   "outputs": [
    {
     "data": {
      "text/plain": [
       "Graffiti Removal                           854622\n",
       "Pot Holes Reported                         457442\n",
       "Sanitation Code Complaints                 118761\n",
       "Vacant and Abandoned Buildings Reported     58716\n",
       "Name: Complaint Type, dtype: int64"
      ]
     },
     "execution_count": 3,
     "metadata": {},
     "output_type": "execute_result"
    }
   ],
   "source": [
    "#number of complaints by type\n",
    "ctcounts = complaints['Complaint Type'].value_counts()\n",
    "ctcounts"
   ]
  },
  {
   "cell_type": "code",
   "execution_count": 76,
   "metadata": {
    "collapsed": false
   },
   "outputs": [
    {
     "name": "stdout",
     "output_type": "stream",
     "text": [
      "                                                             0\n",
      "community          Complaint Type                             \n",
      "ALBANY PARK        Graffiti Removal                         14\n",
      "                   Pot Holes Reported                        2\n",
      "ARCHER HEIGHTS     Graffiti Removal                         15\n",
      "                   Sanitation Code Complaints                2\n",
      "ARMOUR SQUARE      Graffiti Removal                          5\n",
      "                   Pot Holes Reported                        1\n",
      "                   Sanitation Code Complaints                1\n",
      "ASHBURN            Graffiti Removal                         10\n",
      "                   Pot Holes Reported                        7\n",
      "                   Sanitation Code Complaints                1\n",
      "                   Vacant and Abandoned Buildings Reported   1\n",
      "AUBURN GRESHAM     Graffiti Removal                          1\n",
      "                   Pot Holes Reported                        7\n",
      "                   Sanitation Code Complaints                3\n",
      "                   Vacant and Abandoned Buildings Reported   2\n",
      "AUSTIN             Graffiti Removal                          2\n",
      "                   Pot Holes Reported                       11\n",
      "                   Sanitation Code Complaints                6\n",
      "AVALON PARK        Pot Holes Reported                        3\n",
      "                   Vacant and Abandoned Buildings Reported   1\n",
      "AVONDALE           Graffiti Removal                         18\n",
      "                   Pot Holes Reported                        6\n",
      "                   Sanitation Code Complaints                1\n",
      "BELMONT CRAGIN     Graffiti Removal                         27\n",
      "                   Pot Holes Reported                        4\n",
      "                   Sanitation Code Complaints                1\n",
      "BEVERLY            Pot Holes Reported                        2\n",
      "BRIDGEPORT         Graffiti Removal                         10\n",
      "                   Pot Holes Reported                        4\n",
      "                   Sanitation Code Complaints                2\n",
      "...                                                         ..\n",
      "UPTOWN             Pot Holes Reported                        3\n",
      "WASHINGTON HEIGHTS Pot Holes Reported                        2\n",
      "                   Sanitation Code Complaints                2\n",
      "WASHINGTON PARK    Pot Holes Reported                        3\n",
      "                   Sanitation Code Complaints                1\n",
      "                   Vacant and Abandoned Buildings Reported   1\n",
      "WEST ELSDON        Graffiti Removal                         16\n",
      "                   Pot Holes Reported                        1\n",
      "                   Sanitation Code Complaints                2\n",
      "WEST ENGLEWOOD     Graffiti Removal                          1\n",
      "                   Pot Holes Reported                        6\n",
      "                   Sanitation Code Complaints                4\n",
      "                   Vacant and Abandoned Buildings Reported   4\n",
      "WEST GARFIELD PARK Graffiti Removal                          1\n",
      "                   Pot Holes Reported                        1\n",
      "WEST LAWN          Graffiti Removal                          6\n",
      "                   Pot Holes Reported                        8\n",
      "WEST PULLMAN       Graffiti Removal                          2\n",
      "                   Pot Holes Reported                        4\n",
      "                   Sanitation Code Complaints                2\n",
      "WEST RIDGE         Graffiti Removal                          7\n",
      "                   Pot Holes Reported                        6\n",
      "                   Sanitation Code Complaints                2\n",
      "WEST TOWN          Graffiti Removal                         42\n",
      "                   Pot Holes Reported                       11\n",
      "                   Sanitation Code Complaints                3\n",
      "WOODLAWN           Graffiti Removal                          1\n",
      "                   Pot Holes Reported                        1\n",
      "                   Sanitation Code Complaints                1\n",
      "                   Vacant and Abandoned Buildings Reported   2\n",
      "\n",
      "[186 rows x 1 columns]\n"
     ]
    }
   ],
   "source": [
    "#complaints by type and neighboorhood\n",
    "gb = complaints.groupby(['community', 'Complaint Type']).size().to_frame()\n",
    "print(gb)"
   ]
  },
  {
   "cell_type": "code",
   "execution_count": 4,
   "metadata": {
    "collapsed": false,
    "deletable": true,
    "editable": true
   },
   "outputs": [
    {
     "name": "stdout",
     "output_type": "stream",
     "text": [
      "                                                                                         0\n",
      "Complaint Type                          Sub Type                                          \n",
      "Graffiti Removal                        Alley                                        35316\n",
      "                                        Bench                                         2722\n",
      "                                        Door                                         22303\n",
      "                                        Dumpster                                     14342\n",
      "                                        Express Way Job                               1610\n",
      "                                        Fence                                        16245\n",
      "                                        Front                                       310521\n",
      "                                        Garage                                      100033\n",
      "                                        Garbage Cart                                  6293\n",
      "                                        Hydrant                                        408\n",
      "                                        Mail Box                                     10174\n",
      "                                        Newspaper Box                                 6512\n",
      "                                        Overpass                                       968\n",
      "                                        Phone                                          564\n",
      "                                        Pole                                         54532\n",
      "                                        Rear                                         63917\n",
      "                                        Side                                        148543\n",
      "                                        Sign                                         18023\n",
      "                                        Traffic Control Box                          29071\n",
      "                                        Viaduct                                       7075\n",
      "Pot Holes Reported                      Pot Hole in Street                          236060\n",
      "                                        Pothole in Street                           221382\n",
      "Sanitation Code Complaints              Construction Site Cleanliness/Fence           4181\n",
      "                                        Dog feces in yard                             6345\n",
      "                                        Dumpster not being emptied                    9210\n",
      "                                        Garbage in alley                             18004\n",
      "                                        Garbage in yard                              21531\n",
      "                                        Graffiti Commercial Vehicle                     88\n",
      "                                        Other                                        44555\n",
      "                                        Overflowing carts                             8928\n",
      "                                        Standing water                                1145\n",
      "                                        WHAT IS THE NATURE OF THIS CODE VIOLATION?       1\n",
      "Vacant and Abandoned Buildings Reported Boarded                                       6338\n",
      "                                        Building is Boarded Up                          33\n",
      "                                        Building is Open / Unsecure                    258\n",
      "                                        IS BUILDING OPEN OR BOARDED?                     1\n",
      "                                        Open                                         44712\n"
     ]
    }
   ],
   "source": [
    "gb = complaints.groupby(['Complaint Type', 'Sub Type']).size().to_frame()\n",
    "print(gb)"
   ]
  },
  {
   "cell_type": "code",
   "execution_count": null,
   "metadata": {
    "collapsed": false,
    "deletable": true,
    "editable": true
   },
   "outputs": [],
   "source": [
    "gb_community_area = complaints.groupby(['Complaint Type', 'community_area']).size().to_frame()\n",
    "select = gb_community_area['0'] \n",
    "print(gb_community_area)"
   ]
  },
  {
   "cell_type": "markdown",
   "metadata": {
    "deletable": true,
    "editable": true
   },
   "source": [
    "### Problem 2"
   ]
  },
  {
   "cell_type": "code",
   "execution_count": 9,
   "metadata": {
    "collapsed": false
   },
   "outputs": [],
   "source": [
    "# Adding Block ID to 311 Requests data \n",
    "import geopandas as gpd\n",
    "import pandas as pd\n",
    "from geopandas import GeoDataFrame\n",
    "from geopandas.tools import sjoin\n",
    "from shapely.geometry import Point\n",
    "\n",
    "#this file contains polygons at the FIPS_12 level (block group)\n",
    "blocks = gpd.read_file('./data/cb_2015_17_bg_500k/cb_2015_17_bg_500k.shp')\n",
    "\n",
    "#complaints = pd.read_csv('./data/sample.csv')\n",
    "\n",
    "clean_data = complaints[complaints['latitude'].notnull() & complaints['longitude'].notnull()]\n",
    "\n",
    "geometry = [Point(xy) for xy in zip(clean_data.longitude, clean_data.latitude)]\n",
    "clean_data = clean_data.drop(['latitude', 'longitude'], axis=1)\n",
    "\n",
    "crs = {'init': 'epsg:4269'}\n",
    "geo_complaints = GeoDataFrame(clean_data, crs=crs, geometry=geometry)\n",
    "\n",
    "data_with_blockid = sjoin(geo_complaints, blocks, how=\"left\")"
   ]
  },
  {
   "cell_type": "code",
   "execution_count": 10,
   "metadata": {
    "collapsed": false
   },
   "outputs": [
    {
     "name": "stdout",
     "output_type": "stream",
     "text": [
      "downloaded B01003_001E\n",
      "downloaded B02001_002E\n",
      "downloaded B19013_001E\n",
      "downloaded B06009_002E\n"
     ]
    }
   ],
   "source": [
    "# Getting census data\n",
    "import requests\n",
    "import pandas as pd\n",
    "\n",
    "def get_data_census(varname, label):\n",
    "\n",
    "    census_api_url = 'http://api.census.gov/data/' + \\\n",
    "                    '2015/acs5?get=NAME,' + varname + \\\n",
    "                    '&for=block+group:*&in=state:17&in=county:031&in=tract:*'\n",
    "\n",
    "    response = requests.get(census_api_url)\n",
    "\n",
    "    json_data = response.content\n",
    "\n",
    "    data = pd.read_json(json_data)\n",
    "\n",
    "    names = list(data.iloc[0])\n",
    "\n",
    "    for i in range(0,6):\n",
    "        data.rename(index=str, columns={i: names[i]}, inplace=True)\n",
    "    \n",
    "    data.rename(index=str, columns={varname: label}, inplace=True)\n",
    "    \n",
    "    #HERE, I REPLICATE THE FIPS_12 CODE\n",
    "    data['GEOID'] = data['state'].map(str) + data['county'].map(str) + \\\n",
    "                            data['tract'].map(str) + data['block group'].map(str)\n",
    "\n",
    "    data.drop(data.index[[0]], inplace=True)\n",
    "    \n",
    "    print('downloaded', varname)\n",
    "    \n",
    "    return data\n",
    "\n",
    "download_data = [('B01003_001E', 'Total Population'),\n",
    "                ('B02001_002E', 'White Population'),\n",
    "                ('B19013_001E', 'Median Household Income'),\n",
    "                ('B06009_002E', 'Less than highschool')]\n",
    "\n",
    "for i, (varname, label) in enumerate(download_data):\n",
    "    downloaded = get_data_census(varname, label)\n",
    "    if i == 0:\n",
    "        census_data = downloaded\n",
    "    else:\n",
    "        census_data = census_data.merge(downloaded, on='GEOID', how='outer')\n",
    "\n",
    "data_with_blockid2 = data_with_blockid.merge(census_data, on='GEOID')    "
   ]
  },
  {
   "cell_type": "code",
   "execution_count": 26,
   "metadata": {
    "collapsed": false
   },
   "outputs": [
    {
     "data": {
      "text/plain": [
       "Unnamed: 0                                                                                                       847629\n",
       "Complaint Type                                                                                         Graffiti Removal\n",
       "Sub Type                                                                                                          Front\n",
       "Unnamed: 0.1                                                                                                      47629\n",
       "address_street_direction                                                                                            NaN\n",
       "address_street_name                                                                                                 NaN\n",
       "address_street_number                                                                                               NaN\n",
       "address_street_suffix                                                                                               NaN\n",
       "any_people_using_property_homeless_childen_gangs_                                                                   NaN\n",
       "community_area                                                                                                       30\n",
       "completion_date                                                                                     2017-03-03T00:00:00\n",
       "creation_date                                                                                       2017-03-03T00:00:00\n",
       "current_activity                                                                                                    NaN\n",
       "if_the_building_is_open_where_is_the_entry_point_                                                                   NaN\n",
       "is_the_building_currently_vacant_or_occupied_                                                                       NaN\n",
       "is_the_building_dangerous_or_hazardous_                                                                             NaN\n",
       "is_the_building_vacant_due_to_fire_                                                                                 NaN\n",
       "location                                                              {'longitude': '-87.71405275014162', 'needs_rec...\n",
       "location_of_building_on_the_lot_if_garage_change_type_code_to_bgd_                                                  NaN\n",
       "most_recent_action                                                                                                  NaN\n",
       "number_of_potholes_filled_on_block                                                                                  NaN\n",
       "police_district                                                                                                      10\n",
       "service_request_number                                                                                      17-01193741\n",
       "service_request_type                                                                                                NaN\n",
       "ssa                                                                                                                  25\n",
       "status                                                                                                        Completed\n",
       "street_address                                                                                           3542 W 26TH ST\n",
       "type_of_service_request                                                                                Graffiti Removal\n",
       "ward                                                                                                                 22\n",
       "what_type_of_surface_is_the_graffiti_on_                                                              Brick - Unpainted\n",
       "                                                                                            ...                        \n",
       "COUNTYFP                                                                                                            031\n",
       "GEOID                                                                                                      170313007002\n",
       "LSAD                                                                                                                 BG\n",
       "NAME                                                                                                                  2\n",
       "STATEFP                                                                                                              17\n",
       "TRACTCE                                                                                                          300700\n",
       "NAME_x                                                                Block Group 2, Census Tract 3007, Cook County,...\n",
       "Total Population                                                                                                   1277\n",
       "state_x                                                                                                              17\n",
       "county_x                                                                                                            031\n",
       "tract_x                                                                                                          300700\n",
       "block group_x                                                                                                         2\n",
       "NAME_y                                                                Block Group 2, Census Tract 3007, Cook County,...\n",
       "White Population                                                                                                    659\n",
       "state_y                                                                                                              17\n",
       "county_y                                                                                                            031\n",
       "tract_y                                                                                                          300700\n",
       "block group_y                                                                                                         2\n",
       "NAME_x                                                                Block Group 2, Census Tract 3007, Cook County,...\n",
       "Median Household Income                                                                                           32770\n",
       "state_x                                                                                                              17\n",
       "county_x                                                                                                            031\n",
       "tract_x                                                                                                          300700\n",
       "block group_x                                                                                                         2\n",
       "NAME_y                                                                Block Group 2, Census Tract 3007, Cook County,...\n",
       "Less than highschool                                                                                               None\n",
       "state_y                                                                                                              17\n",
       "county_y                                                                                                            031\n",
       "tract_y                                                                                                          300700\n",
       "block group_y                                                                                                         2\n",
       "Name: 10, dtype: object"
      ]
     },
     "execution_count": 26,
     "metadata": {},
     "output_type": "execute_result"
    }
   ],
   "source": [
    "data_with_blockid2.iloc[10]"
   ]
  },
  {
   "cell_type": "markdown",
   "metadata": {
    "deletable": true,
    "editable": true
   },
   "source": [
    "### Problem 3"
   ]
  },
  {
   "cell_type": "code",
   "execution_count": 12,
   "metadata": {
    "collapsed": false
   },
   "outputs": [
    {
     "name": "stdout",
     "output_type": "stream",
     "text": [
      "41.7573666 -87.6711973381924\n"
     ]
    },
    {
     "data": {
      "text/plain": [
       "Pot Holes Reported                         278\n",
       "Sanitation Code Complaints                 159\n",
       "Vacant and Abandoned Buildings Reported     71\n",
       "Graffiti Removal                            45\n",
       "Name: Complaint Type, dtype: int64"
      ]
     },
     "execution_count": 12,
     "metadata": {},
     "output_type": "execute_result"
    }
   ],
   "source": [
    "import requests\n",
    "from geopy.geocoders import Nominatim\n",
    "import xml.etree.ElementTree as ET\n",
    "\n",
    "address = '\"7500 S. Wolcott Ave.'\n",
    "geolocator = Nominatim()\n",
    "location = geolocator.geocode(address)\n",
    "print(location.latitude, location.longitude)\n",
    "\n",
    "census_block_url = 'http://data.fcc.gov/api/block/2010/find?latitude={lat}&longitude={lon}&showall=true'.format(\n",
    "        lat=location.latitude, lon=location.longitude)\n",
    "\n",
    "response = requests.get(census_block_url)\n",
    "\n",
    "xml_data = response.content\n",
    "etree = ET.fromstring(xml_data)\n",
    "#print(etree)\n",
    "\n",
    "for neighbor in etree.iter():\n",
    "    if 'Block' in neighbor.tag:\n",
    "        block_id = neighbor.attrib['FIPS'][:12]\n",
    "\n",
    "data_with_blockid2[data_with_blockid2.GEOID == block_id][\"Complaint Type\"].value_counts()\n",
    "\n",
    "\n",
    "#data = pd.read_json(json_data)\n",
    "#    41.757488, -87.671259\n",
    "#170317104005000"
   ]
  },
  {
   "cell_type": "code",
   "execution_count": 13,
   "metadata": {
    "collapsed": false
   },
   "outputs": [
    {
     "data": {
      "text/plain": [
       "SOUTH LAWNDALE            57824\n",
       "WEST TOWN                 57767\n",
       "LOGAN SQUARE              54985\n",
       "LOWER WEST SIDE           44277\n",
       "BRIGHTON PARK             44200\n",
       "BELMONT CRAGIN            38359\n",
       "AVONDALE                  33119\n",
       "GAGE PARK                 32781\n",
       "IRVING PARK               30898\n",
       "MCKINLEY PARK             24125\n",
       "LAKE VIEW                 23748\n",
       "ALBANY PARK               22778\n",
       "ARCHER HEIGHTS            21383\n",
       "PORTAGE PARK              18734\n",
       "LINCOLN SQUARE            18178\n",
       "NORTH CENTER              17562\n",
       "CHICAGO LAWN              17363\n",
       "NEAR WEST SIDE            17124\n",
       "WEST RIDGE                17051\n",
       "NEW CITY                  16202\n",
       "WEST ELSDON               15631\n",
       "BRIDGEPORT                15281\n",
       "LINCOLN PARK              15078\n",
       "WEST LAWN                 13629\n",
       "HUMBOLDT PARK             12781\n",
       "LOOP                      12780\n",
       "ROGERS PARK               12318\n",
       "UPTOWN                    11892\n",
       "HERMOSA                   11583\n",
       "NEAR NORTH SIDE           11577\n",
       "                          ...  \n",
       "SOUTH SHORE                1684\n",
       "HEGEWISCH                  1676\n",
       "ENGLEWOOD                  1530\n",
       "NORWOOD PARK               1522\n",
       "ROSELAND                   1435\n",
       "WEST GARFIELD PARK         1386\n",
       "HYDE PARK                  1351\n",
       "FOREST GLEN                1270\n",
       "AUBURN GRESHAM             1265\n",
       "WEST PULLMAN               1161\n",
       "GRAND BOULEVARD             923\n",
       "CALUMET HEIGHTS             914\n",
       "GREATER GRAND CROSSING      904\n",
       "WOODLAWN                    765\n",
       "OHARE                       657\n",
       "MOUNT GREENWOOD             644\n",
       "CHATHAM                     634\n",
       "DOUGLAS                     593\n",
       "BEVERLY                     560\n",
       "WASHINGTON PARK             471\n",
       "KENWOOD                     415\n",
       "WASHINGTON HEIGHTS          402\n",
       "MORGAN PARK                 364\n",
       "FULLER PARK                 321\n",
       "PULLMAN                     283\n",
       "AVALON PARK                 282\n",
       "EDISON PARK                 234\n",
       "OAKLAND                     135\n",
       "BURNSIDE                    105\n",
       "RIVERDALE                    79\n",
       "Name: community, dtype: int64"
      ]
     },
     "execution_count": 13,
     "metadata": {},
     "output_type": "execute_result"
    }
   ],
   "source": [
    "data_with_blockid2[data_with_blockid2['Complaint Type'] == 'Graffiti Removal'].community.value_counts()\n"
   ]
  },
  {
   "cell_type": "code",
   "execution_count": null,
   "metadata": {
    "collapsed": false
   },
   "outputs": [],
   "source": [
    "len(blocks2.blockce10.value_counts())"
   ]
  },
  {
   "cell_type": "code",
   "execution_count": null,
   "metadata": {
    "collapsed": false
   },
   "outputs": [],
   "source": [
    "blocks2.columns"
   ]
  },
  {
   "cell_type": "code",
   "execution_count": null,
   "metadata": {
    "collapsed": false
   },
   "outputs": [],
   "source": [
    "blocks2.countyfp10.value_counts()"
   ]
  },
  {
   "cell_type": "code",
   "execution_count": null,
   "metadata": {
    "collapsed": true
   },
   "outputs": [],
   "source": []
  },
  {
   "cell_type": "code",
   "execution_count": null,
   "metadata": {
    "collapsed": true
   },
   "outputs": [],
   "source": [
    "#to make graphs\n",
    "%matplotlib inline\n",
    "import matplotlib\n",
    "blocks.plot();\n",
    "\n",
    "base = blocks2.plot(color='white')\n",
    "\n",
    "geo_sel.plot(ax=base, marker='o', color='red', markersize=5);"
   ]
  }
 ],
 "metadata": {
  "kernelspec": {
   "display_name": "Python 3",
   "language": "python",
   "name": "python3"
  },
  "language_info": {
   "codemirror_mode": {
    "name": "ipython",
    "version": 3
   },
   "file_extension": ".py",
   "mimetype": "text/x-python",
   "name": "python",
   "nbconvert_exporter": "python",
   "pygments_lexer": "ipython3",
   "version": "3.4.0"
  }
 },
 "nbformat": 4,
 "nbformat_minor": 0
}
