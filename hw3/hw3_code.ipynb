{
 "cells": [
  {
   "cell_type": "markdown",
   "metadata": {},
   "source": [
    "# Homework 3. Carlos Alvarado"
   ]
  },
  {
   "cell_type": "markdown",
   "metadata": {},
   "source": [
    "### Initial Settings"
   ]
  },
  {
   "cell_type": "code",
   "execution_count": 1,
   "metadata": {
    "collapsed": false
   },
   "outputs": [],
   "source": [
    "import sys\n",
    "sys.path.append('./source')\n",
    "\n",
    "from step1_read_data import read_data\n",
    "from step2_explore import describe_column, tabular, histogram, print_explore\n",
    "from step3_preprocess import fill_miss, convert_column_type\n",
    "from step4_create_features import discretize, make_dummies\n",
    "from step5_classifiers import make_model\n",
    "from step6_evaluate import evaluate, precision_at_k\n",
    "\n",
    "%matplotlib inline\n"
   ]
  },
  {
   "cell_type": "markdown",
   "metadata": {},
   "source": [
    "### Config Variables"
   ]
  },
  {
   "cell_type": "code",
   "execution_count": 3,
   "metadata": {
    "collapsed": false
   },
   "outputs": [],
   "source": [
    "FILENAME = 'data/credit-data.csv'\n",
    "\n",
    "large_grid = { \n",
    "    'RF': {'n_estimators': [1,10,100], 'max_features': ['sqrt','log2'], 'min_samples_split': [2,5,10], 'criterion':['gini', 'entropy']},\n",
    "    'BA': {'n_estimators': [1,10,100], 'max_samples': [0.5, 1, 2], 'max_features': [0.5, 1 ,2]},\n",
    "    'AB': {'algorithm': ['SAMME', 'SAMME.R'], 'n_estimators': [1,10,100]},\n",
    "    'LR': {'penalty': ['l1','l2'], 'C': [0.0001,0.01,0.1,1,10]},\n",
    "    'SVM':{'C' :[0.0001,0.01,0.1,1,10],'kernel':['linear']},\n",
    "    'LSVM':{'C' :[0.0001,0.01,0.1,1,10], 'loss':['hinge', 'squared_hinge']},\n",
    "    'DT': {'criterion': ['gini', 'entropy'], 'max_depth': [1,10,50,100], 'max_features': ['sqrt','log2'],'min_samples_split': [2,5,10]},\n",
    "    'KNN':{'n_neighbors': [1,10,50,100],'weights': ['uniform','distance'],'algorithm': ['ball_tree','kd_tree']}\n",
    "           }\n",
    "\n",
    "test_grid = { \n",
    "    'RF': {'n_estimators': [1], 'max_depth': [1], 'max_features': ['sqrt'],'min_samples_split': [10]},\n",
    "    'BA': {},\n",
    "    'AB': { 'algorithm': ['SAMME'], 'n_estimators': [1]},\n",
    "    'LR': { 'penalty': ['l1'], 'C': [0.01]},\n",
    "    'SVM':{'C' :[0.01],'kernel':['linear']},\n",
    "    'LSVM':{'C' :[0.01]},\n",
    "    'DT': {'criterion': ['gini'], 'max_depth': [1], 'max_features': ['sqrt'],'min_samples_split': [10]},    \n",
    "    'KNN':{'n_neighbors': [5],'weights': ['uniform'],'algorithm': ['auto']}\n",
    "           }"
   ]
  },
  {
   "cell_type": "code",
   "execution_count": 4,
   "metadata": {
    "collapsed": false
   },
   "outputs": [
    {
     "data": {
      "text/plain": [
       "{'AB': {'algorithm': ['SAMME', 'SAMME.R'], 'n_estimators': [1, 10, 100]},\n",
       " 'BA': {'max_features': [0.5, 1, 2],\n",
       "  'max_samples': [0.5, 1, 2],\n",
       "  'n_estimators': [1, 10, 100]},\n",
       " 'DT': {'criterion': ['gini', 'entropy'],\n",
       "  'max_depth': [1, 10, 50, 100],\n",
       "  'max_features': ['sqrt', 'log2'],\n",
       "  'min_samples_split': [2, 5, 10]},\n",
       " 'KNN': {'algorithm': ['ball_tree', 'kd_tree'],\n",
       "  'n_neighbors': [1, 10, 50, 100],\n",
       "  'weights': ['uniform', 'distance']},\n",
       " 'LR': {'C': [0.0001, 0.01, 0.1, 1, 10], 'penalty': ['l1', 'l2']},\n",
       " 'LSVM': {'C': [0.0001, 0.01, 0.1, 1, 10], 'loss': ['hinge', 'squared_hinge']},\n",
       " 'RF': {'criterion': ['gini', 'entropy'],\n",
       "  'max_features': ['sqrt', 'log2'],\n",
       "  'min_samples_split': [2, 5, 10],\n",
       "  'n_estimators': [1, 10, 100]},\n",
       " 'SVM': {'C': [0.0001, 0.01, 0.1, 1, 10], 'kernel': ['linear']}}"
      ]
     },
     "execution_count": 4,
     "metadata": {},
     "output_type": "execute_result"
    }
   ],
   "source": [
    "large_grid"
   ]
  },
  {
   "cell_type": "markdown",
   "metadata": {},
   "source": [
    "### Step 1. Read Data"
   ]
  },
  {
   "cell_type": "code",
   "execution_count": 5,
   "metadata": {
    "collapsed": false
   },
   "outputs": [],
   "source": [
    "# Read Data into Pandas object\n",
    "data = read_data(FILENAME)"
   ]
  },
  {
   "cell_type": "markdown",
   "metadata": {},
   "source": [
    "### Step 2. Explore data"
   ]
  },
  {
   "cell_type": "code",
   "execution_count": 6,
   "metadata": {
    "collapsed": false
   },
   "outputs": [
    {
     "name": "stdout",
     "output_type": "stream",
     "text": [
      "PersonID                                  int64\n",
      "SeriousDlqin2yrs                          int64\n",
      "RevolvingUtilizationOfUnsecuredLines    float64\n",
      "age                                       int64\n",
      "zipcode                                   int64\n",
      "NumberOfTime30-59DaysPastDueNotWorse      int64\n",
      "DebtRatio                               float64\n",
      "MonthlyIncome                           float64\n",
      "NumberOfOpenCreditLinesAndLoans           int64\n",
      "NumberOfTimes90DaysLate                   int64\n",
      "NumberRealEstateLoansOrLines              int64\n",
      "NumberOfTime60-89DaysPastDueNotWorse      int64\n",
      "NumberOfDependents                      float64\n",
      "dtype: object\n",
      "-----------------------------------------\n",
      "Describing variable: PersonID\n",
      "count    150000.000000\n",
      "mean      75000.500000\n",
      "std       43301.414527\n",
      "min           1.000000\n",
      "25%       37500.750000\n",
      "50%       75000.500000\n",
      "75%      112500.250000\n",
      "max      150000.000000\n",
      "Name: PersonID, dtype: float64\n",
      "\n",
      "Unique values: 150000\n",
      "\n",
      "Missing values: 0\n",
      "-----------------------------------------\n",
      "Describing variable: SeriousDlqin2yrs\n",
      "count    150000.000000\n",
      "mean          0.066840\n",
      "std           0.249746\n",
      "min           0.000000\n",
      "25%           0.000000\n",
      "50%           0.000000\n",
      "75%           0.000000\n",
      "max           1.000000\n",
      "Name: SeriousDlqin2yrs, dtype: float64\n",
      "\n",
      "Unique values: 2\n",
      "\n",
      "Missing values: 0\n",
      "-----------------------------------------\n",
      "Describing variable: RevolvingUtilizationOfUnsecuredLines\n",
      "count    150000.000000\n",
      "mean          6.048438\n",
      "std         249.755371\n",
      "min           0.000000\n",
      "25%           0.029867\n",
      "50%           0.154181\n",
      "75%           0.559046\n",
      "max       50708.000000\n",
      "Name: RevolvingUtilizationOfUnsecuredLines, dtype: float64\n",
      "\n",
      "Unique values: 125728\n",
      "\n",
      "Missing values: 0\n",
      "-----------------------------------------\n",
      "Describing variable: age\n",
      "count    150000.000000\n",
      "mean         52.295207\n",
      "std          14.771866\n",
      "min           0.000000\n",
      "25%          41.000000\n",
      "50%          52.000000\n",
      "75%          63.000000\n",
      "max         109.000000\n",
      "Name: age, dtype: float64\n",
      "\n",
      "Unique values: 86\n",
      "\n",
      "Missing values: 0\n",
      "-----------------------------------------\n",
      "Describing variable: zipcode\n",
      "count    150000.000000\n",
      "mean      60648.810013\n",
      "std          56.748197\n",
      "min       60601.000000\n",
      "25%       60625.000000\n",
      "50%       60629.000000\n",
      "75%       60644.000000\n",
      "max       60804.000000\n",
      "Name: zipcode, dtype: float64\n",
      "\n",
      "Unique values: 8\n",
      "\n",
      "Missing values: 0\n",
      "-----------------------------------------\n",
      "Describing variable: NumberOfTime30-59DaysPastDueNotWorse\n",
      "count    150000.000000\n",
      "mean          0.421033\n",
      "std           4.192781\n",
      "min           0.000000\n",
      "25%           0.000000\n",
      "50%           0.000000\n",
      "75%           0.000000\n",
      "max          98.000000\n",
      "Name: NumberOfTime30-59DaysPastDueNotWorse, dtype: float64\n",
      "\n",
      "Unique values: 16\n",
      "\n",
      "Missing values: 0\n",
      "-----------------------------------------\n",
      "Describing variable: DebtRatio\n",
      "count    150000.000000\n",
      "mean        353.005076\n",
      "std        2037.818523\n",
      "min           0.000000\n",
      "25%           0.175074\n",
      "50%           0.366508\n",
      "75%           0.868254\n",
      "max      329664.000000\n",
      "Name: DebtRatio, dtype: float64\n",
      "\n",
      "Unique values: 114194\n",
      "\n",
      "Missing values: 0\n",
      "-----------------------------------------\n",
      "Describing variable: MonthlyIncome\n",
      "count    1.202690e+05\n",
      "mean     6.670221e+03\n",
      "std      1.438467e+04\n",
      "min      0.000000e+00\n",
      "25%      3.400000e+03\n",
      "50%      5.400000e+03\n",
      "75%      8.249000e+03\n",
      "max      3.008750e+06\n",
      "Name: MonthlyIncome, dtype: float64\n",
      "\n",
      "Unique values: 13594\n",
      "\n",
      "Missing values: 29731\n",
      "-----------------------------------------\n",
      "Describing variable: NumberOfOpenCreditLinesAndLoans\n",
      "count    150000.000000\n",
      "mean          8.452760\n",
      "std           5.145951\n",
      "min           0.000000\n",
      "25%           5.000000\n",
      "50%           8.000000\n",
      "75%          11.000000\n",
      "max          58.000000\n",
      "Name: NumberOfOpenCreditLinesAndLoans, dtype: float64\n",
      "\n",
      "Unique values: 58\n",
      "\n",
      "Missing values: 0\n",
      "-----------------------------------------\n",
      "Describing variable: NumberOfTimes90DaysLate\n",
      "count    150000.000000\n",
      "mean          0.265973\n",
      "std           4.169304\n",
      "min           0.000000\n",
      "25%           0.000000\n",
      "50%           0.000000\n",
      "75%           0.000000\n",
      "max          98.000000\n",
      "Name: NumberOfTimes90DaysLate, dtype: float64\n",
      "\n",
      "Unique values: 19\n",
      "\n",
      "Missing values: 0\n",
      "-----------------------------------------\n",
      "Describing variable: NumberRealEstateLoansOrLines\n",
      "count    150000.000000\n",
      "mean          1.018240\n",
      "std           1.129771\n",
      "min           0.000000\n",
      "25%           0.000000\n",
      "50%           1.000000\n",
      "75%           2.000000\n",
      "max          54.000000\n",
      "Name: NumberRealEstateLoansOrLines, dtype: float64\n",
      "\n",
      "Unique values: 28\n",
      "\n",
      "Missing values: 0\n",
      "-----------------------------------------\n",
      "Describing variable: NumberOfTime60-89DaysPastDueNotWorse\n",
      "count    150000.000000\n",
      "mean          0.240387\n",
      "std           4.155179\n",
      "min           0.000000\n",
      "25%           0.000000\n",
      "50%           0.000000\n",
      "75%           0.000000\n",
      "max          98.000000\n",
      "Name: NumberOfTime60-89DaysPastDueNotWorse, dtype: float64\n",
      "\n",
      "Unique values: 13\n",
      "\n",
      "Missing values: 0\n",
      "-----------------------------------------\n",
      "Describing variable: NumberOfDependents\n",
      "count    146076.000000\n",
      "mean          0.757222\n",
      "std           1.115086\n",
      "min           0.000000\n",
      "25%           0.000000\n",
      "50%           0.000000\n",
      "75%           1.000000\n",
      "max          20.000000\n",
      "Name: NumberOfDependents, dtype: float64\n",
      "\n",
      "Unique values: 13\n",
      "\n",
      "Missing values: 3924\n",
      "count    150000.000000\n",
      "mean        353.005076\n",
      "std        2037.818523\n",
      "min           0.000000\n",
      "25%           0.175074\n",
      "50%           0.366508\n",
      "75%           0.868254\n",
      "max      329664.000000\n",
      "Name: DebtRatio, dtype: float64\n",
      "\n",
      "Unique values: 114194\n",
      "\n",
      "Missing values: 0\n",
      "      NumberOfDependents   Percent\n",
      "0.0                86902  0.594909\n",
      "1.0                26316  0.180153\n",
      "2.0                19522  0.133643\n",
      "3.0                 9483  0.064918\n",
      "4.0                 2862  0.019593\n",
      "5.0                  746  0.005107\n",
      "6.0                  158  0.001082\n",
      "7.0                   51  0.000349\n",
      "8.0                   24  0.000164\n",
      "9.0                    5  0.000034\n",
      "10.0                   5  0.000034\n",
      "13.0                   1  0.000007\n",
      "20.0                   1  0.000007\n"
     ]
    },
    {
     "data": {
      "image/png": "[encoded data removed]",
      "text/plain": [
       "<matplotlib.figure.Figure at 0x1ab7afb2c50>"
      ]
     },
     "metadata": {},
     "output_type": "display_data"
    },
    {
     "data": {
      "image/png": "[encoded data removed]",
      "text/plain": [
       "<matplotlib.figure.Figure at 0x1ab0043a978>"
      ]
     },
     "metadata": {},
     "output_type": "display_data"
    }
   ],
   "source": [
    "print_explore(data)"
   ]
  },
  {
   "cell_type": "markdown",
   "metadata": {},
   "source": [
    "### Step 3. Pre-process data"
   ]
  },
  {
   "cell_type": "code",
   "execution_count": 7,
   "metadata": {
    "collapsed": false
   },
   "outputs": [],
   "source": [
    "# Convert SeriousDlqin2yrs to booleans (this is Y, the outcome variable)\n",
    "convert_column_type(data, 'SeriousDlqin2yrs', 'bool', value_if_true = 1)\n",
    "\n",
    "#Convert NumberOfDependents to integers\n",
    "convert_column_type(data, 'NumberOfDependents', 'int')"
   ]
  },
  {
   "cell_type": "code",
   "execution_count": 8,
   "metadata": {
    "collapsed": false
   },
   "outputs": [
    {
     "name": "stderr",
     "output_type": "stream",
     "text": [
      "C:\\Anaconda3\\lib\\site-packages\\pandas\\core\\indexing.py:141: SettingWithCopyWarning: \n",
      "A value is trying to be set on a copy of a slice from a DataFrame\n",
      "\n",
      "See the caveats in the documentation: http://pandas.pydata.org/pandas-docs/stable/indexing.html#indexing-view-versus-copy\n",
      "  self._setitem_with_indexer(indexer, value)\n"
     ]
    }
   ],
   "source": [
    "# Debt Ratio over 10000% is very unlikely\n",
    "data['DebtRatio'].loc[data['DebtRatio'] > 10000] = None\n",
    "\n",
    "# Note to myself: create winsorize function for next assignment"
   ]
  },
  {
   "cell_type": "code",
   "execution_count": 9,
   "metadata": {
    "collapsed": false
   },
   "outputs": [],
   "source": [
    "#Variables with missing values: MonthlyIncome, NumberOfDependents\n",
    "data = fill_miss(data, 'MonthlyIncome', method='mean')\n",
    "data = fill_miss(data, 'NumberOfDependents', method='median')\n",
    "data = fill_miss(data, 'DebtRatio', method='median')\n",
    "\n",
    "# Note to me: add more methods in the future: nearest neighbor or other classification method"
   ]
  },
  {
   "cell_type": "markdown",
   "metadata": {},
   "source": [
    "### Step 4. Create Features"
   ]
  },
  {
   "cell_type": "code",
   "execution_count": 10,
   "metadata": {
    "collapsed": false
   },
   "outputs": [
    {
     "name": "stdout",
     "output_type": "stream",
     "text": [
      "Warning, DebtRatio has negative or zero values\n"
     ]
    }
   ],
   "source": [
    "discretize(data, 'MonthlyIncome', nbins=5, cut_type='quantile')\n",
    "discretize(data, 'DebtRatio', nbins=5, cut_type='logspace')"
   ]
  },
  {
   "cell_type": "code",
   "execution_count": 11,
   "metadata": {
    "collapsed": false
   },
   "outputs": [
    {
     "name": "stdout",
     "output_type": "stream",
     "text": [
      "0 <class 'numpy.float64'> 2.0\n",
      "1 <class 'numpy.float64'> 1.0\n",
      "2 <class 'numpy.float64'> 0.0\n",
      "3 <class 'numpy.float64'> 3.0\n",
      "4 <class 'numpy.float64'> 4.0\n",
      "5 <class 'numpy.float64'> 5.0\n",
      "6 <class 'numpy.float64'> 6.0\n",
      "7 <class 'numpy.float64'> 8.0\n",
      "8 <class 'numpy.float64'> 7.0\n",
      "9 <class 'numpy.float64'> 20.0\n",
      "10 <class 'numpy.float64'> 10.0\n",
      "11 <class 'numpy.float64'> 9.0\n",
      "12 <class 'numpy.float64'> 13.0\n",
      "0 <class 'str'> (0.158, 6.294]\n",
      "1 <class 'str'> (0.00398, 0.158]\n",
      "2 <class 'str'> (250.344, 9958]\n",
      "3 <class 'str'> [0.0001, 0.00398]\n",
      "4 <class 'str'> (6.294, 250.344]\n",
      "5 <class 'float'> nan\n",
      "0 <class 'str'> (9083, 3008750]\n",
      "1 <class 'str'> [0, 3000]\n",
      "2 <class 'str'> (3000, 4546]\n",
      "3 <class 'str'> (6301, 9083]\n",
      "4 <class 'str'> (4546, 6301]\n"
     ]
    }
   ],
   "source": [
    "make_dummies(data, 'NumberOfDependents')\n",
    "make_dummies(data, 'DebtRatio_cat')\n",
    "make_dummies(data, 'MonthlyIncome_cat')"
   ]
  },
  {
   "cell_type": "code",
   "execution_count": 12,
   "metadata": {
    "collapsed": false
   },
   "outputs": [
    {
     "data": {
      "text/plain": [
       "Index(['PersonID', 'SeriousDlqin2yrs', 'RevolvingUtilizationOfUnsecuredLines',\n",
       "       'age', 'zipcode', 'NumberOfTime30-59DaysPastDueNotWorse', 'DebtRatio',\n",
       "       'MonthlyIncome', 'NumberOfOpenCreditLinesAndLoans',\n",
       "       'NumberOfTimes90DaysLate', 'NumberRealEstateLoansOrLines',\n",
       "       'NumberOfTime60-89DaysPastDueNotWorse', 'NumberOfDependents',\n",
       "       'MonthlyIncome_cat', 'DebtRatio_cat', 'NumberOfDependents_0',\n",
       "       'NumberOfDependents_1', 'NumberOfDependents_2', 'NumberOfDependents_3',\n",
       "       'NumberOfDependents_4', 'NumberOfDependents_5', 'NumberOfDependents_6',\n",
       "       'NumberOfDependents_7', 'NumberOfDependents_8', 'NumberOfDependents_9',\n",
       "       'NumberOfDependents_10', 'NumberOfDependents_11',\n",
       "       'NumberOfDependents_12', 'DebtRatio_cat_0', 'DebtRatio_cat_1',\n",
       "       'DebtRatio_cat_2', 'DebtRatio_cat_3', 'DebtRatio_cat_4',\n",
       "       'DebtRatio_cat_5', 'MonthlyIncome_cat_0', 'MonthlyIncome_cat_1',\n",
       "       'MonthlyIncome_cat_2', 'MonthlyIncome_cat_3', 'MonthlyIncome_cat_4'],\n",
       "      dtype='object')"
      ]
     },
     "execution_count": 12,
     "metadata": {},
     "output_type": "execute_result"
    }
   ],
   "source": [
    "#get column names to select features\n",
    "data.columns"
   ]
  },
  {
   "cell_type": "markdown",
   "metadata": {},
   "source": [
    "### Steps 5 and 6. Classify and Evaluate"
   ]
  },
  {
   "cell_type": "code",
   "execution_count": 15,
   "metadata": {
    "collapsed": false
   },
   "outputs": [
    {
     "name": "stdout",
     "output_type": "stream",
     "text": [
      "RF\n",
      "{'min_samples_split': 2, 'criterion': 'gini', 'n_estimators': 1, 'max_features': 'sqrt'}\n",
      "{'min_samples_split': 2, 'criterion': 'gini', 'n_estimators': 10, 'max_features': 'sqrt'}\n",
      "{'min_samples_split': 2, 'criterion': 'gini', 'n_estimators': 100, 'max_features': 'sqrt'}\n",
      "{'min_samples_split': 5, 'criterion': 'gini', 'n_estimators': 1, 'max_features': 'sqrt'}\n",
      "{'min_samples_split': 5, 'criterion': 'gini', 'n_estimators': 10, 'max_features': 'sqrt'}\n",
      "{'min_samples_split': 5, 'criterion': 'gini', 'n_estimators': 100, 'max_features': 'sqrt'}\n",
      "{'min_samples_split': 10, 'criterion': 'gini', 'n_estimators': 1, 'max_features': 'sqrt'}\n",
      "{'min_samples_split': 10, 'criterion': 'gini', 'n_estimators': 10, 'max_features': 'sqrt'}\n",
      "{'min_samples_split': 10, 'criterion': 'gini', 'n_estimators': 100, 'max_features': 'sqrt'}\n",
      "{'min_samples_split': 2, 'criterion': 'gini', 'n_estimators': 1, 'max_features': 'log2'}\n",
      "{'min_samples_split': 2, 'criterion': 'gini', 'n_estimators': 10, 'max_features': 'log2'}\n",
      "{'min_samples_split': 2, 'criterion': 'gini', 'n_estimators': 100, 'max_features': 'log2'}\n",
      "{'min_samples_split': 5, 'criterion': 'gini', 'n_estimators': 1, 'max_features': 'log2'}\n",
      "{'min_samples_split': 5, 'criterion': 'gini', 'n_estimators': 10, 'max_features': 'log2'}\n",
      "{'min_samples_split': 5, 'criterion': 'gini', 'n_estimators': 100, 'max_features': 'log2'}\n",
      "{'min_samples_split': 10, 'criterion': 'gini', 'n_estimators': 1, 'max_features': 'log2'}\n",
      "{'min_samples_split': 10, 'criterion': 'gini', 'n_estimators': 10, 'max_features': 'log2'}\n",
      "{'min_samples_split': 10, 'criterion': 'gini', 'n_estimators': 100, 'max_features': 'log2'}\n",
      "{'min_samples_split': 2, 'criterion': 'entropy', 'n_estimators': 1, 'max_features': 'sqrt'}\n",
      "{'min_samples_split': 2, 'criterion': 'entropy', 'n_estimators': 10, 'max_features': 'sqrt'}\n",
      "{'min_samples_split': 2, 'criterion': 'entropy', 'n_estimators': 100, 'max_features': 'sqrt'}\n",
      "{'min_samples_split': 5, 'criterion': 'entropy', 'n_estimators': 1, 'max_features': 'sqrt'}\n",
      "{'min_samples_split': 5, 'criterion': 'entropy', 'n_estimators': 10, 'max_features': 'sqrt'}\n",
      "{'min_samples_split': 5, 'criterion': 'entropy', 'n_estimators': 100, 'max_features': 'sqrt'}\n",
      "{'min_samples_split': 10, 'criterion': 'entropy', 'n_estimators': 1, 'max_features': 'sqrt'}\n",
      "{'min_samples_split': 10, 'criterion': 'entropy', 'n_estimators': 10, 'max_features': 'sqrt'}\n",
      "{'min_samples_split': 10, 'criterion': 'entropy', 'n_estimators': 100, 'max_features': 'sqrt'}\n",
      "{'min_samples_split': 2, 'criterion': 'entropy', 'n_estimators': 1, 'max_features': 'log2'}\n",
      "{'min_samples_split': 2, 'criterion': 'entropy', 'n_estimators': 10, 'max_features': 'log2'}\n",
      "{'min_samples_split': 2, 'criterion': 'entropy', 'n_estimators': 100, 'max_features': 'log2'}\n",
      "{'min_samples_split': 5, 'criterion': 'entropy', 'n_estimators': 1, 'max_features': 'log2'}\n",
      "{'min_samples_split': 5, 'criterion': 'entropy', 'n_estimators': 10, 'max_features': 'log2'}\n",
      "{'min_samples_split': 5, 'criterion': 'entropy', 'n_estimators': 100, 'max_features': 'log2'}\n",
      "{'min_samples_split': 10, 'criterion': 'entropy', 'n_estimators': 1, 'max_features': 'log2'}\n",
      "{'min_samples_split': 10, 'criterion': 'entropy', 'n_estimators': 10, 'max_features': 'log2'}\n",
      "{'min_samples_split': 10, 'criterion': 'entropy', 'n_estimators': 100, 'max_features': 'log2'}\n",
      "BA\n",
      "{'max_samples': 0.5, 'n_estimators': 1, 'max_features': 0.5}\n",
      "{'max_samples': 0.5, 'n_estimators': 10, 'max_features': 0.5}\n",
      "{'max_samples': 0.5, 'n_estimators': 100, 'max_features': 0.5}\n",
      "{'max_samples': 1, 'n_estimators': 1, 'max_features': 0.5}\n",
      "{'max_samples': 1, 'n_estimators': 10, 'max_features': 0.5}\n",
      "{'max_samples': 1, 'n_estimators': 100, 'max_features': 0.5}\n",
      "{'max_samples': 2, 'n_estimators': 1, 'max_features': 0.5}\n",
      "{'max_samples': 2, 'n_estimators': 10, 'max_features': 0.5}\n",
      "{'max_samples': 2, 'n_estimators': 100, 'max_features': 0.5}\n",
      "{'max_samples': 0.5, 'n_estimators': 1, 'max_features': 1}\n",
      "{'max_samples': 0.5, 'n_estimators': 10, 'max_features': 1}\n",
      "{'max_samples': 0.5, 'n_estimators': 100, 'max_features': 1}\n",
      "{'max_samples': 1, 'n_estimators': 1, 'max_features': 1}\n",
      "{'max_samples': 1, 'n_estimators': 10, 'max_features': 1}\n",
      "{'max_samples': 1, 'n_estimators': 100, 'max_features': 1}\n",
      "{'max_samples': 2, 'n_estimators': 1, 'max_features': 1}\n",
      "{'max_samples': 2, 'n_estimators': 10, 'max_features': 1}\n",
      "{'max_samples': 2, 'n_estimators': 100, 'max_features': 1}\n",
      "{'max_samples': 0.5, 'n_estimators': 1, 'max_features': 2}\n",
      "{'max_samples': 0.5, 'n_estimators': 10, 'max_features': 2}\n",
      "{'max_samples': 0.5, 'n_estimators': 100, 'max_features': 2}\n",
      "{'max_samples': 1, 'n_estimators': 1, 'max_features': 2}\n",
      "{'max_samples': 1, 'n_estimators': 10, 'max_features': 2}\n",
      "{'max_samples': 1, 'n_estimators': 100, 'max_features': 2}\n",
      "{'max_samples': 2, 'n_estimators': 1, 'max_features': 2}\n",
      "{'max_samples': 2, 'n_estimators': 10, 'max_features': 2}\n",
      "{'max_samples': 2, 'n_estimators': 100, 'max_features': 2}\n",
      "AB\n",
      "{'n_estimators': 1, 'algorithm': 'SAMME'}\n",
      "{'n_estimators': 10, 'algorithm': 'SAMME'}\n",
      "{'n_estimators': 100, 'algorithm': 'SAMME'}\n",
      "{'n_estimators': 1, 'algorithm': 'SAMME.R'}\n",
      "{'n_estimators': 10, 'algorithm': 'SAMME.R'}\n",
      "{'n_estimators': 100, 'algorithm': 'SAMME.R'}\n",
      "LR\n",
      "{'penalty': 'l1', 'C': 0.0001}\n",
      "{'penalty': 'l2', 'C': 0.0001}\n",
      "{'penalty': 'l1', 'C': 0.01}\n",
      "{'penalty': 'l2', 'C': 0.01}\n",
      "{'penalty': 'l1', 'C': 0.1}\n",
      "{'penalty': 'l2', 'C': 0.1}\n",
      "{'penalty': 'l1', 'C': 1}\n",
      "{'penalty': 'l2', 'C': 1}\n",
      "{'penalty': 'l1', 'C': 10}\n",
      "{'penalty': 'l2', 'C': 10}\n",
      "LSVM\n",
      "{'C': 0.0001, 'loss': 'hinge'}\n",
      "{'C': 0.0001, 'loss': 'squared_hinge'}\n",
      "{'C': 0.01, 'loss': 'hinge'}\n",
      "{'C': 0.01, 'loss': 'squared_hinge'}\n",
      "{'C': 0.1, 'loss': 'hinge'}\n",
      "{'C': 0.1, 'loss': 'squared_hinge'}\n",
      "{'C': 1, 'loss': 'hinge'}\n",
      "{'C': 1, 'loss': 'squared_hinge'}\n",
      "{'C': 10, 'loss': 'hinge'}\n",
      "{'C': 10, 'loss': 'squared_hinge'}\n",
      "DT\n",
      "{'min_samples_split': 2, 'criterion': 'gini', 'max_depth': 1, 'max_features': 'sqrt'}\n",
      "{'min_samples_split': 5, 'criterion': 'gini', 'max_depth': 1, 'max_features': 'sqrt'}\n",
      "{'min_samples_split': 10, 'criterion': 'gini', 'max_depth': 1, 'max_features': 'sqrt'}\n",
      "{'min_samples_split': 2, 'criterion': 'gini', 'max_depth': 1, 'max_features': 'log2'}\n",
      "{'min_samples_split': 5, 'criterion': 'gini', 'max_depth': 1, 'max_features': 'log2'}\n",
      "{'min_samples_split': 10, 'criterion': 'gini', 'max_depth': 1, 'max_features': 'log2'}\n",
      "{'min_samples_split': 2, 'criterion': 'gini', 'max_depth': 10, 'max_features': 'sqrt'}\n",
      "{'min_samples_split': 5, 'criterion': 'gini', 'max_depth': 10, 'max_features': 'sqrt'}\n",
      "{'min_samples_split': 10, 'criterion': 'gini', 'max_depth': 10, 'max_features': 'sqrt'}\n",
      "{'min_samples_split': 2, 'criterion': 'gini', 'max_depth': 10, 'max_features': 'log2'}\n",
      "{'min_samples_split': 5, 'criterion': 'gini', 'max_depth': 10, 'max_features': 'log2'}\n",
      "{'min_samples_split': 10, 'criterion': 'gini', 'max_depth': 10, 'max_features': 'log2'}\n",
      "{'min_samples_split': 2, 'criterion': 'gini', 'max_depth': 50, 'max_features': 'sqrt'}\n",
      "{'min_samples_split': 5, 'criterion': 'gini', 'max_depth': 50, 'max_features': 'sqrt'}\n",
      "{'min_samples_split': 10, 'criterion': 'gini', 'max_depth': 50, 'max_features': 'sqrt'}\n",
      "{'min_samples_split': 2, 'criterion': 'gini', 'max_depth': 50, 'max_features': 'log2'}\n",
      "{'min_samples_split': 5, 'criterion': 'gini', 'max_depth': 50, 'max_features': 'log2'}\n",
      "{'min_samples_split': 10, 'criterion': 'gini', 'max_depth': 50, 'max_features': 'log2'}\n",
      "{'min_samples_split': 2, 'criterion': 'gini', 'max_depth': 100, 'max_features': 'sqrt'}\n",
      "{'min_samples_split': 5, 'criterion': 'gini', 'max_depth': 100, 'max_features': 'sqrt'}\n",
      "{'min_samples_split': 10, 'criterion': 'gini', 'max_depth': 100, 'max_features': 'sqrt'}\n",
      "{'min_samples_split': 2, 'criterion': 'gini', 'max_depth': 100, 'max_features': 'log2'}\n",
      "{'min_samples_split': 5, 'criterion': 'gini', 'max_depth': 100, 'max_features': 'log2'}\n",
      "{'min_samples_split': 10, 'criterion': 'gini', 'max_depth': 100, 'max_features': 'log2'}\n",
      "{'min_samples_split': 2, 'criterion': 'entropy', 'max_depth': 1, 'max_features': 'sqrt'}\n",
      "{'min_samples_split': 5, 'criterion': 'entropy', 'max_depth': 1, 'max_features': 'sqrt'}\n",
      "{'min_samples_split': 10, 'criterion': 'entropy', 'max_depth': 1, 'max_features': 'sqrt'}\n",
      "{'min_samples_split': 2, 'criterion': 'entropy', 'max_depth': 1, 'max_features': 'log2'}\n",
      "{'min_samples_split': 5, 'criterion': 'entropy', 'max_depth': 1, 'max_features': 'log2'}\n",
      "{'min_samples_split': 10, 'criterion': 'entropy', 'max_depth': 1, 'max_features': 'log2'}\n",
      "{'min_samples_split': 2, 'criterion': 'entropy', 'max_depth': 10, 'max_features': 'sqrt'}\n",
      "{'min_samples_split': 5, 'criterion': 'entropy', 'max_depth': 10, 'max_features': 'sqrt'}\n",
      "{'min_samples_split': 10, 'criterion': 'entropy', 'max_depth': 10, 'max_features': 'sqrt'}\n",
      "{'min_samples_split': 2, 'criterion': 'entropy', 'max_depth': 10, 'max_features': 'log2'}\n",
      "{'min_samples_split': 5, 'criterion': 'entropy', 'max_depth': 10, 'max_features': 'log2'}\n",
      "{'min_samples_split': 10, 'criterion': 'entropy', 'max_depth': 10, 'max_features': 'log2'}\n",
      "{'min_samples_split': 2, 'criterion': 'entropy', 'max_depth': 50, 'max_features': 'sqrt'}\n",
      "{'min_samples_split': 5, 'criterion': 'entropy', 'max_depth': 50, 'max_features': 'sqrt'}\n",
      "{'min_samples_split': 10, 'criterion': 'entropy', 'max_depth': 50, 'max_features': 'sqrt'}\n",
      "{'min_samples_split': 2, 'criterion': 'entropy', 'max_depth': 50, 'max_features': 'log2'}\n",
      "{'min_samples_split': 5, 'criterion': 'entropy', 'max_depth': 50, 'max_features': 'log2'}\n",
      "{'min_samples_split': 10, 'criterion': 'entropy', 'max_depth': 50, 'max_features': 'log2'}\n",
      "{'min_samples_split': 2, 'criterion': 'entropy', 'max_depth': 100, 'max_features': 'sqrt'}\n",
      "{'min_samples_split': 5, 'criterion': 'entropy', 'max_depth': 100, 'max_features': 'sqrt'}\n",
      "{'min_samples_split': 10, 'criterion': 'entropy', 'max_depth': 100, 'max_features': 'sqrt'}\n",
      "{'min_samples_split': 2, 'criterion': 'entropy', 'max_depth': 100, 'max_features': 'log2'}\n",
      "{'min_samples_split': 5, 'criterion': 'entropy', 'max_depth': 100, 'max_features': 'log2'}\n",
      "{'min_samples_split': 10, 'criterion': 'entropy', 'max_depth': 100, 'max_features': 'log2'}\n"
     ]
    }
   ],
   "source": [
    "try:\n",
    "    from sklearn.model_selection import train_test_split\n",
    "except:\n",
    "    from sklearn.cross_validation import train_test_split\n",
    "\n",
    "from sklearn.grid_search import ParameterGrid\n",
    "from sklearn.metrics import roc_auc_score\n",
    "\n",
    "import pandas as pd\n",
    "\n",
    "import time\n",
    "\n",
    "FEATURES = ['RevolvingUtilizationOfUnsecuredLines', 'NumberOfDependents', 'age', 'MonthlyIncome_cat_0',\n",
    "       'MonthlyIncome_cat_1', 'MonthlyIncome_cat_2', 'MonthlyIncome_cat_3',\n",
    "       'MonthlyIncome_cat_4', 'DebtRatio_cat_0',\n",
    "       'DebtRatio_cat_1', 'DebtRatio_cat_2', 'DebtRatio_cat_3',\n",
    "       'DebtRatio_cat_4', 'DebtRatio_cat_5', 'NumberOfTimes90DaysLate', \n",
    "        'NumberOfOpenCreditLinesAndLoans', 'NumberOfTimes90DaysLate', 'NumberRealEstateLoansOrLines', \n",
    "            'NumberOfTime60-89DaysPastDueNotWorse']\n",
    "\n",
    "#added RevolvingUtilizationOfUnsecuredLines and NumberOfTimes90DaysLate\n",
    "\n",
    "#add 'NumberOfOpenCreditLinesAndLoans', 'NumberOfTimes90DaysLate', \n",
    "    #'NumberRealEstateLoansOrLines', 'NumberOfTime60-89DaysPastDueNotWorse'\n",
    "\n",
    "MODELS_TO_RUN = ['RF', 'BA', 'AB', 'LR', 'LSVM', 'DT'] #I'm not running SVM or KNN because takes too much time\n",
    "\n",
    "GRID = large_grid\n",
    "\n",
    "X = data.loc[:, FEATURES ]\n",
    "\n",
    "Y = data['SeriousDlqin2yrs']\n",
    "\n",
    "X_train, X_test, y_train, y_test = train_test_split(\n",
    "    X, Y, test_size=0.2, random_state=None)\n",
    "\n",
    "results_df =  pd.DataFrame(columns=(\n",
    "        'model_type','clf', 'parameters', 'auc-roc','p_at_5', 'p_at_10', 'p_at_20', 'elapsed'))\n",
    "\n",
    "for model_name in MODELS_TO_RUN:\n",
    "    print(model_name)\n",
    "    clf = make_model(model_name)\n",
    "    parameter_values = GRID[model_name]\n",
    "    \n",
    "    for p in ParameterGrid(parameter_values):\n",
    "        print(p)\n",
    "        clf.set_params(**p)\n",
    "        init_time = time.perf_counter()\n",
    "        try:\n",
    "            y_pred_probs = clf.fit(X_train, y_train).predict_proba(X_test)[:,1]\n",
    "        except:\n",
    "            y_pred_probs = clf.fit(X_train, y_train).decision_function(X_test)\n",
    "        elapsed = time.perf_counter() - init_time\n",
    "        \n",
    "        y_pred_probs_sorted, y_test_sorted = zip(*sorted(zip(y_pred_probs, y_test), reverse=True))\n",
    "        results_df.loc[len(results_df)] = [model_name, clf, p,\n",
    "                                       roc_auc_score(y_test, y_pred_probs),\n",
    "                                       precision_at_k(y_test_sorted,y_pred_probs_sorted,5.0),\n",
    "                                       precision_at_k(y_test_sorted,y_pred_probs_sorted,10.0),\n",
    "                                       precision_at_k(y_test_sorted,y_pred_probs_sorted,20.0),\n",
    "                                       elapsed]\n"
   ]
  },
  {
   "cell_type": "code",
   "execution_count": 16,
   "metadata": {
    "collapsed": false
   },
   "outputs": [],
   "source": [
    "results_df.to_csv('data_output_v6_allvars_with_time.csv')"
   ]
  }
 ],
 "metadata": {
  "anaconda-cloud": {},
  "kernelspec": {
   "display_name": "Python [default]",
   "language": "python",
   "name": "python3"
  },
  "language_info": {
   "codemirror_mode": {
    "name": "ipython",
    "version": 3
   },
   "file_extension": ".py",
   "mimetype": "text/x-python",
   "name": "python",
   "nbconvert_exporter": "python",
   "pygments_lexer": "ipython3",
   "version": "3.5.2"
  }
 },
 "nbformat": 4,
 "nbformat_minor": 0
}
