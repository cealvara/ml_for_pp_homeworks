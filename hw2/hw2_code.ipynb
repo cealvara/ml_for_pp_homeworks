{
 "cells": [
  {
   "cell_type": "markdown",
   "metadata": {},
   "source": [
    "# Homework 2. Carlos Alvarado"
   ]
  },
  {
   "cell_type": "markdown",
   "metadata": {},
   "source": [
    "### Initial Settings"
   ]
  },
  {
   "cell_type": "code",
   "execution_count": 1,
   "metadata": {
    "collapsed": false
   },
   "outputs": [],
   "source": [
    "import sys\n",
    "sys.path.append('./source')\n",
    "\n",
    "from step1_read_data import read_data\n",
    "from step2_explore import describe_column, tabular, histogram\n",
    "from step3_preprocess import fill_miss, convert_column_type\n",
    "from step4_create_features import discretize, make_dummies\n",
    "from step5_classifiers import MyClassifier\n",
    "from step6_evaluate import evaluate"
   ]
  },
  {
   "cell_type": "markdown",
   "metadata": {},
   "source": [
    "### Step 1. Read Data"
   ]
  },
  {
   "cell_type": "code",
   "execution_count": 2,
   "metadata": {
    "collapsed": true
   },
   "outputs": [],
   "source": [
    "# Read Data into Pandas object\n",
    "data = read_data('data/credit-data.csv')"
   ]
  },
  {
   "cell_type": "markdown",
   "metadata": {},
   "source": [
    "### Step 2. Explore data"
   ]
  },
  {
   "cell_type": "code",
   "execution_count": null,
   "metadata": {
    "collapsed": true
   },
   "outputs": [],
   "source": [
    "# Get column names and types\n",
    "data.dtypes"
   ]
  },
  {
   "cell_type": "code",
   "execution_count": null,
   "metadata": {
    "collapsed": false
   },
   "outputs": [],
   "source": [
    "for varname in data.columns:\n",
    "    print('-----------------------------------------')\n",
    "    print('Describing variable: {}'.format(varname))\n",
    "    describe_column(data, varname)"
   ]
  },
  {
   "cell_type": "code",
   "execution_count": 16,
   "metadata": {
    "collapsed": false
   },
   "outputs": [
    {
     "name": "stdout",
     "output_type": "stream",
     "text": [
      "count    120269.000000\n",
      "mean         26.598777\n",
      "std         424.446457\n",
      "min           0.000000\n",
      "25%           0.143388\n",
      "50%           0.296023\n",
      "75%           0.482559\n",
      "max       61106.500000\n",
      "Name: DebtRatio, dtype: float64\n",
      "\n",
      "Unique values: 109658\n",
      "\n",
      "Missing values: 0\n"
     ]
    }
   ],
   "source": [
    "describe_column(data, 'DebtRatio')"
   ]
  },
  {
   "cell_type": "markdown",
   "metadata": {},
   "source": [
    "### Step 3. Pre-process data"
   ]
  },
  {
   "cell_type": "code",
   "execution_count": 3,
   "metadata": {
    "collapsed": false
   },
   "outputs": [
    {
     "name": "stdout",
     "output_type": "stream",
     "text": [
      "0         2\n",
      "1         1\n",
      "2         0\n",
      "3         0\n",
      "4         0\n",
      "5         1\n",
      "6         0\n",
      "7         0\n",
      "9         2\n",
      "10        0\n",
      "11        2\n",
      "12        2\n",
      "13        2\n",
      "14        0\n",
      "15        2\n",
      "16        0\n",
      "17        0\n",
      "18        2\n",
      "19        0\n",
      "20        0\n",
      "21        2\n",
      "22        0\n",
      "23        0\n",
      "24        0\n",
      "25        1\n",
      "26        0\n",
      "27        1\n",
      "28        0\n",
      "29        0\n",
      "30        0\n",
      "         ..\n",
      "149970    2\n",
      "149971    0\n",
      "149972    1\n",
      "149973    1\n",
      "149974    0\n",
      "149975    0\n",
      "149976    0\n",
      "149977    0\n",
      "149978    0\n",
      "149979    0\n",
      "149980    0\n",
      "149981    4\n",
      "149982    3\n",
      "149983    0\n",
      "149984    0\n",
      "149985    0\n",
      "149986    1\n",
      "149987    0\n",
      "149988    0\n",
      "149989    3\n",
      "149990    2\n",
      "149991    0\n",
      "149992    3\n",
      "149993    0\n",
      "149994    0\n",
      "149995    0\n",
      "149996    2\n",
      "149997    0\n",
      "149998    0\n",
      "149999    0\n",
      "Name: NumberOfDependents, dtype: int64\n"
     ]
    }
   ],
   "source": [
    "# Convert SeriousDlqin2yrs to booleans\n",
    "convert_column_type(data, 'SeriousDlqin2yrs', 'bool', value_if_true = 1)\n",
    "\n",
    "#Convert NumberOfDependents to integers\n",
    "convert_column_type(data, 'NumberOfDependents', 'int')"
   ]
  },
  {
   "cell_type": "code",
   "execution_count": 5,
   "metadata": {
    "collapsed": false
   },
   "outputs": [],
   "source": [
    "#Variables with missing values: MonthlyIncome, NumberOfDependents\n",
    "data = fill_miss(data, 'MonthlyIncome', method='mean')\n",
    "data = fill_miss(data, 'NumberOfDependents', method='median')\n",
    "\n",
    "# Note to me: add more methods in the future: nearest neighbor or other classification method"
   ]
  },
  {
   "cell_type": "code",
   "execution_count": null,
   "metadata": {
    "collapsed": true
   },
   "outputs": [],
   "source": [
    "# Winsorize some variables (to remove possible outliers)\n"
   ]
  },
  {
   "cell_type": "code",
   "execution_count": null,
   "metadata": {
    "collapsed": false
   },
   "outputs": [],
   "source": [
    "data[~data['NumberOfDependents'].isnull()]['NumberOfDependents'].astype(int)"
   ]
  },
  {
   "cell_type": "markdown",
   "metadata": {},
   "source": [
    "### Step 4. Create Features"
   ]
  },
  {
   "cell_type": "code",
   "execution_count": 17,
   "metadata": {
    "collapsed": false
   },
   "outputs": [
    {
     "name": "stdout",
     "output_type": "stream",
     "text": [
      "Warning, DebtRatio has negative or zero values\n"
     ]
    }
   ],
   "source": [
    "discretize(data, 'MonthlyIncome', nbins=5, cut_type='quantile')\n",
    "discretize(data, 'DebtRatio', nbins=5, cut_type='logspace')"
   ]
  },
  {
   "cell_type": "code",
   "execution_count": 18,
   "metadata": {
    "collapsed": false
   },
   "outputs": [
    {
     "name": "stdout",
     "output_type": "stream",
     "text": [
      "0 <class 'numpy.float64'> 2.0\n",
      "1 <class 'numpy.float64'> 1.0\n",
      "2 <class 'numpy.float64'> 0.0\n",
      "3 <class 'numpy.float64'> 3.0\n",
      "4 <class 'numpy.float64'> 4.0\n",
      "5 <class 'numpy.float64'> 5.0\n",
      "6 <class 'numpy.float64'> 6.0\n",
      "7 <class 'numpy.float64'> 8.0\n",
      "8 <class 'numpy.float64'> 7.0\n",
      "9 <class 'numpy.float64'> 20.0\n",
      "10 <class 'numpy.float64'> 10.0\n",
      "11 <class 'numpy.float64'> 9.0\n",
      "12 <class 'numpy.float64'> 13.0\n",
      "0 <class 'str'> (0.327, 18.692]\n",
      "1 <class 'str'> (0.00572, 0.327]\n",
      "2 <class 'str'> (18.692, 1068.735]\n",
      "3 <class 'str'> (1068.735, 61106.5]\n",
      "4 <class 'str'> [0.0001, 0.00572]\n",
      "5 <class 'float'> nan\n"
     ]
    }
   ],
   "source": [
    "make_dummies(data, 'NumberOfDependents')\n",
    "make_dummies(data, 'DebtRatio_cat')"
   ]
  },
  {
   "cell_type": "code",
   "execution_count": 8,
   "metadata": {
    "collapsed": false
   },
   "outputs": [
    {
     "name": "stdout",
     "output_type": "stream",
     "text": [
      "0 <class 'str'> (9083, 3008750]\n",
      "1 <class 'str'> [0, 3000]\n",
      "2 <class 'str'> (3000, 4544.2]\n",
      "3 <class 'str'> (6300, 9083]\n",
      "4 <class 'str'> (4544.2, 6300]\n"
     ]
    }
   ],
   "source": [
    "make_dummies(data, 'MonthlyIncome_cat')"
   ]
  },
  {
   "cell_type": "code",
   "execution_count": 19,
   "metadata": {
    "collapsed": false
   },
   "outputs": [
    {
     "data": {
      "text/plain": [
       "Index(['PersonID', 'SeriousDlqin2yrs', 'RevolvingUtilizationOfUnsecuredLines',\n",
       "       'age', 'zipcode', 'NumberOfTime30-59DaysPastDueNotWorse', 'DebtRatio',\n",
       "       'MonthlyIncome', 'NumberOfOpenCreditLinesAndLoans',\n",
       "       'NumberOfTimes90DaysLate', 'NumberRealEstateLoansOrLines',\n",
       "       'NumberOfTime60-89DaysPastDueNotWorse', 'NumberOfDependents',\n",
       "       'MonthlyIncome_cat', 'NumberOfDependents_0', 'NumberOfDependents_1',\n",
       "       'NumberOfDependents_2', 'NumberOfDependents_3', 'NumberOfDependents_4',\n",
       "       'NumberOfDependents_5', 'NumberOfDependents_6', 'NumberOfDependents_7',\n",
       "       'NumberOfDependents_8', 'NumberOfDependents_9', 'NumberOfDependents_10',\n",
       "       'NumberOfDependents_11', 'NumberOfDependents_12', 'MonthlyIncome_cat_0',\n",
       "       'MonthlyIncome_cat_1', 'MonthlyIncome_cat_2', 'MonthlyIncome_cat_3',\n",
       "       'MonthlyIncome_cat_4', 'DebtRatio_cat', 'DebtRatio_cat_0',\n",
       "       'DebtRatio_cat_1', 'DebtRatio_cat_2', 'DebtRatio_cat_3',\n",
       "       'DebtRatio_cat_4', 'DebtRatio_cat_5'],\n",
       "      dtype='object')"
      ]
     },
     "execution_count": 19,
     "metadata": {},
     "output_type": "execute_result"
    }
   ],
   "source": [
    "data.columns"
   ]
  },
  {
   "cell_type": "markdown",
   "metadata": {},
   "source": [
    "### Step 5. Classify"
   ]
  },
  {
   "cell_type": "code",
   "execution_count": 38,
   "metadata": {
    "collapsed": false
   },
   "outputs": [
    {
     "data": {
      "text/plain": [
       "0.9302125772567279"
      ]
     },
     "execution_count": 38,
     "metadata": {},
     "output_type": "execute_result"
    }
   ],
   "source": [
    "# The task here is to predict who will  experience financial \n",
    "# distress in the next two years. The outcome variable (label) \n",
    "# in the data is SeriousDlqin2yrs. We have access to other information \n",
    "# about this person (as described in the data dictionary). Your assignment \n",
    "#is to take this data and build a machine learning pipeline that \n",
    "#trains *one* machine learning model on the data. \n",
    "\n",
    "\n",
    "X = data.loc[:, ('NumberOfDependents', 'age', 'MonthlyIncome_cat_0',\n",
    "       'MonthlyIncome_cat_1', 'MonthlyIncome_cat_2', 'MonthlyIncome_cat_3',\n",
    "       'MonthlyIncome_cat_4', 'DebtRatio_cat_0',\n",
    "       'DebtRatio_cat_1', 'DebtRatio_cat_2', 'DebtRatio_cat_3',\n",
    "       'DebtRatio_cat_4', 'DebtRatio_cat_5')]\n",
    "\n",
    "Y = data['SeriousDlqin2yrs']\n",
    "\n",
    "model = MyClassifier(X, Y, 'logistic', test_size=0.3, seed=42)\n",
    "\n",
    "model.model.score(model.X_test, model.Y_test)"
   ]
  },
  {
   "cell_type": "markdown",
   "metadata": {},
   "source": [
    "### Step 6. Evaluate"
   ]
  },
  {
   "cell_type": "code",
   "execution_count": 21,
   "metadata": {
    "collapsed": false
   },
   "outputs": [
    {
     "data": {
      "text/plain": [
       "0.93406502037083228"
      ]
     },
     "execution_count": 21,
     "metadata": {},
     "output_type": "execute_result"
    }
   ],
   "source": [
    "model.model.score(model.X_test, model.Y_test)"
   ]
  },
  {
   "cell_type": "code",
   "execution_count": 40,
   "metadata": {
    "collapsed": false
   },
   "outputs": [
    {
     "data": {
      "text/html": [
       "<div>\n",
       "<table border=\"1\" class=\"dataframe\">\n",
       "  <thead>\n",
       "    <tr style=\"text-align: right;\">\n",
       "      <th>Predicted</th>\n",
       "      <th>False</th>\n",
       "      <th>True</th>\n",
       "    </tr>\n",
       "    <tr>\n",
       "      <th>Actual</th>\n",
       "      <th></th>\n",
       "      <th></th>\n",
       "    </tr>\n",
       "  </thead>\n",
       "  <tbody>\n",
       "    <tr>\n",
       "      <th>False</th>\n",
       "      <td>33562</td>\n",
       "      <td>1</td>\n",
       "    </tr>\n",
       "    <tr>\n",
       "      <th>True</th>\n",
       "      <td>2518</td>\n",
       "      <td>0</td>\n",
       "    </tr>\n",
       "  </tbody>\n",
       "</table>\n",
       "</div>"
      ],
      "text/plain": [
       "Predicted  False  True \n",
       "Actual                 \n",
       "False      33562      1\n",
       "True        2518      0"
      ]
     },
     "execution_count": 40,
     "metadata": {},
     "output_type": "execute_result"
    }
   ],
   "source": [
    "import pandas as pd\n",
    "\n",
    "probas = model.model.predict_proba(model.X_test)\n",
    "\n",
    "pd.crosstab(model.Y_test, probas[:,1] > 0.3, rownames=[\"Actual\"], colnames=[\"Predicted\"])"
   ]
  },
  {
   "cell_type": "code",
   "execution_count": 14,
   "metadata": {
    "collapsed": false
   },
   "outputs": [
    {
     "data": {
      "text/plain": [
       "array([[11234,     0],\n",
       "       [  793,     0]])"
      ]
     },
     "execution_count": 14,
     "metadata": {},
     "output_type": "execute_result"
    }
   ],
   "source": [
    "from sklearn.metrics import roc_curve, auc, classification_report, confusion_matrix\n",
    "\n",
    "confusion_matrix(model.Y_test, model.model.predict(model.X_test))\n"
   ]
  },
  {
   "cell_type": "code",
   "execution_count": 23,
   "metadata": {
    "collapsed": true
   },
   "outputs": [],
   "source": [
    "probas = model.model.predict_proba(model.X_train)"
   ]
  },
  {
   "cell_type": "code",
   "execution_count": 33,
   "metadata": {
    "collapsed": false
   },
   "outputs": [
    {
     "data": {
      "text/plain": [
       "107"
      ]
     },
     "execution_count": 33,
     "metadata": {},
     "output_type": "execute_result"
    }
   ],
   "source": [
    "sum(probas[:,1] > 0.2)"
   ]
  },
  {
   "cell_type": "code",
   "execution_count": 34,
   "metadata": {
    "collapsed": false
   },
   "outputs": [
    {
     "data": {
      "text/plain": [
       "array([False, False, False, ..., False, False, False], dtype=bool)"
      ]
     },
     "execution_count": 34,
     "metadata": {},
     "output_type": "execute_result"
    }
   ],
   "source": [
    "model.model.predict(model.X_test)"
   ]
  },
  {
   "cell_type": "code",
   "execution_count": null,
   "metadata": {
    "collapsed": true
   },
   "outputs": [],
   "source": []
  }
 ],
 "metadata": {
  "kernelspec": {
   "display_name": "Python 3",
   "language": "python",
   "name": "python3"
  },
  "language_info": {
   "codemirror_mode": {
    "name": "ipython",
    "version": 3
   },
   "file_extension": ".py",
   "mimetype": "text/x-python",
   "name": "python",
   "nbconvert_exporter": "python",
   "pygments_lexer": "ipython3",
   "version": "3.4.0"
  }
 },
 "nbformat": 4,
 "nbformat_minor": 0
}
