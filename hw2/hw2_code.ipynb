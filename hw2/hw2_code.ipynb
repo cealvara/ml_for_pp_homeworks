{
 "cells": [
  {
   "cell_type": "markdown",
   "metadata": {},
   "source": [
    "# Homework 2. Carlos Alvarado"
   ]
  },
  {
   "cell_type": "markdown",
   "metadata": {},
   "source": [
    "### Initial Settings"
   ]
  },
  {
   "cell_type": "code",
   "execution_count": 2,
   "metadata": {
    "collapsed": false
   },
   "outputs": [],
   "source": [
    "import sys\n",
    "sys.path.append('./source')\n",
    "\n",
    "from step1_read_data import read_data\n",
    "from step2_explore import describe_column, tabular, histogram\n",
    "from step3_preprocess import fill_miss\n",
    "from step4_create_features import discretize, make_dummies\n",
    "from step5_classifiers import classify\n",
    "from step6_evaluate import evaluate"
   ]
  },
  {
   "cell_type": "markdown",
   "metadata": {},
   "source": [
    "### Step 1. Read Data"
   ]
  },
  {
   "cell_type": "code",
   "execution_count": 3,
   "metadata": {
    "collapsed": true
   },
   "outputs": [],
   "source": [
    "# 1. Read Data\n",
    "data = read_data('data/credit-data.csv')"
   ]
  },
  {
   "cell_type": "markdown",
   "metadata": {},
   "source": [
    "### Step 2. Explore data"
   ]
  },
  {
   "cell_type": "code",
   "execution_count": null,
   "metadata": {
    "collapsed": false
   },
   "outputs": [],
   "source": [
    "data.dtypes"
   ]
  },
  {
   "cell_type": "code",
   "execution_count": 6,
   "metadata": {
    "collapsed": false
   },
   "outputs": [
    {
     "name": "stdout",
     "output_type": "stream",
     "text": [
      "-----------------------------------------\n",
      "Describing variable: PersonID\n",
      "count    150000.000000\n",
      "mean      75000.500000\n",
      "std       43301.414527\n",
      "min           1.000000\n",
      "25%       37500.750000\n",
      "50%       75000.500000\n",
      "75%      112500.250000\n",
      "max      150000.000000\n",
      "Name: PersonID, dtype: float64\n",
      "\n",
      "Unique values: 150000\n",
      "\n",
      "Missing values: 0\n",
      "-----------------------------------------\n",
      "Describing variable: SeriousDlqin2yrs\n",
      "count    150000.000000\n",
      "mean          0.066840\n",
      "std           0.249746\n",
      "min           0.000000\n",
      "25%           0.000000\n",
      "50%           0.000000\n",
      "75%           0.000000\n",
      "max           1.000000\n",
      "Name: SeriousDlqin2yrs, dtype: float64\n",
      "\n",
      "Unique values: 2\n",
      "\n",
      "Missing values: 0\n",
      "-----------------------------------------\n",
      "Describing variable: RevolvingUtilizationOfUnsecuredLines\n",
      "count    150000.000000\n",
      "mean          6.048438\n",
      "std         249.755371\n",
      "min           0.000000\n",
      "25%           0.029867\n",
      "50%           0.154181\n",
      "75%           0.559046\n",
      "max       50708.000000\n",
      "Name: RevolvingUtilizationOfUnsecuredLines, dtype: float64\n",
      "\n",
      "Unique values: 125728\n",
      "\n",
      "Missing values: 0\n",
      "-----------------------------------------\n",
      "Describing variable: age\n",
      "count    150000.000000\n",
      "mean         52.295207\n",
      "std          14.771866\n",
      "min           0.000000\n",
      "25%          41.000000\n",
      "50%          52.000000\n",
      "75%          63.000000\n",
      "max         109.000000\n",
      "Name: age, dtype: float64\n",
      "\n",
      "Unique values: 86\n",
      "\n",
      "Missing values: 0\n",
      "-----------------------------------------\n",
      "Describing variable: zipcode\n",
      "count    150000.000000\n",
      "mean      60648.810013\n",
      "std          56.748197\n",
      "min       60601.000000\n",
      "25%       60625.000000\n",
      "50%       60629.000000\n",
      "75%       60644.000000\n",
      "max       60804.000000\n",
      "Name: zipcode, dtype: float64\n",
      "\n",
      "Unique values: 8\n",
      "\n",
      "Missing values: 0\n",
      "-----------------------------------------\n",
      "Describing variable: NumberOfTime30-59DaysPastDueNotWorse\n",
      "count    150000.000000\n",
      "mean          0.421033\n",
      "std           4.192781\n",
      "min           0.000000\n",
      "25%           0.000000\n",
      "50%           0.000000\n",
      "75%           0.000000\n",
      "max          98.000000\n",
      "Name: NumberOfTime30-59DaysPastDueNotWorse, dtype: float64\n",
      "\n",
      "Unique values: 16\n",
      "\n",
      "Missing values: 0\n",
      "-----------------------------------------\n",
      "Describing variable: DebtRatio\n",
      "count    150000.000000\n",
      "mean        353.005076\n",
      "std        2037.818523\n",
      "min           0.000000\n",
      "25%           0.175074\n",
      "50%           0.366508\n",
      "75%           0.868254\n",
      "max      329664.000000\n",
      "Name: DebtRatio, dtype: float64\n",
      "\n",
      "Unique values: 114194\n",
      "\n",
      "Missing values: 0\n",
      "-----------------------------------------\n",
      "Describing variable: MonthlyIncome\n",
      "count    1.202690e+05\n",
      "mean     6.670221e+03\n",
      "std      1.438467e+04\n",
      "min      0.000000e+00\n",
      "25%      3.400000e+03\n",
      "50%      5.400000e+03\n",
      "75%      8.249000e+03\n",
      "max      3.008750e+06\n",
      "Name: MonthlyIncome, dtype: float64\n",
      "\n",
      "Unique values: 13594\n",
      "\n",
      "Missing values: 29731\n",
      "-----------------------------------------\n",
      "Describing variable: NumberOfOpenCreditLinesAndLoans\n",
      "count    150000.000000\n",
      "mean          8.452760\n",
      "std           5.145951\n",
      "min           0.000000\n",
      "25%           5.000000\n",
      "50%           8.000000\n",
      "75%          11.000000\n",
      "max          58.000000\n",
      "Name: NumberOfOpenCreditLinesAndLoans, dtype: float64\n",
      "\n",
      "Unique values: 58\n",
      "\n",
      "Missing values: 0\n",
      "-----------------------------------------\n",
      "Describing variable: NumberOfTimes90DaysLate\n",
      "count    150000.000000\n",
      "mean          0.265973\n",
      "std           4.169304\n",
      "min           0.000000\n",
      "25%           0.000000\n",
      "50%           0.000000\n",
      "75%           0.000000\n",
      "max          98.000000\n",
      "Name: NumberOfTimes90DaysLate, dtype: float64\n",
      "\n",
      "Unique values: 19\n",
      "\n",
      "Missing values: 0\n",
      "-----------------------------------------\n",
      "Describing variable: NumberRealEstateLoansOrLines\n",
      "count    150000.000000\n",
      "mean          1.018240\n",
      "std           1.129771\n",
      "min           0.000000\n",
      "25%           0.000000\n",
      "50%           1.000000\n",
      "75%           2.000000\n",
      "max          54.000000\n",
      "Name: NumberRealEstateLoansOrLines, dtype: float64\n",
      "\n",
      "Unique values: 28\n",
      "\n",
      "Missing values: 0\n",
      "-----------------------------------------\n",
      "Describing variable: NumberOfTime60-89DaysPastDueNotWorse\n",
      "count    150000.000000\n",
      "mean          0.240387\n",
      "std           4.155179\n",
      "min           0.000000\n",
      "25%           0.000000\n",
      "50%           0.000000\n",
      "75%           0.000000\n",
      "max          98.000000\n",
      "Name: NumberOfTime60-89DaysPastDueNotWorse, dtype: float64\n",
      "\n",
      "Unique values: 13\n",
      "\n",
      "Missing values: 0\n",
      "-----------------------------------------\n",
      "Describing variable: NumberOfDependents\n",
      "count    146076.000000\n",
      "mean          0.757222\n",
      "std           1.115086\n",
      "min           0.000000\n",
      "25%           0.000000\n",
      "50%           0.000000\n",
      "75%           1.000000\n",
      "max          20.000000\n",
      "Name: NumberOfDependents, dtype: float64\n",
      "\n",
      "Unique values: 13\n",
      "\n",
      "Missing values: 3924\n"
     ]
    }
   ],
   "source": [
    "for varname in data.columns:\n",
    "    print('-----------------------------------------')\n",
    "    print('Describing variable: {}'.format(varname))\n",
    "    describe_column(data, varname)"
   ]
  },
  {
   "cell_type": "markdown",
   "metadata": {},
   "source": [
    "### Step 3. Pre-process data"
   ]
  },
  {
   "cell_type": "code",
   "execution_count": null,
   "metadata": {
    "collapsed": false
   },
   "outputs": [],
   "source": [
    "sum(data['NumberOfDependents'].isnull())"
   ]
  },
  {
   "cell_type": "code",
   "execution_count": null,
   "metadata": {
    "collapsed": true
   },
   "outputs": [],
   "source": [
    "len(data)"
   ]
  },
  {
   "cell_type": "code",
   "execution_count": null,
   "metadata": {
    "collapsed": true
   },
   "outputs": [],
   "source": []
  }
 ],
 "metadata": {
  "kernelspec": {
   "display_name": "Python 3",
   "language": "python",
   "name": "python3"
  },
  "language_info": {
   "codemirror_mode": {
    "name": "ipython",
    "version": 3
   },
   "file_extension": ".py",
   "mimetype": "text/x-python",
   "name": "python",
   "nbconvert_exporter": "python",
   "pygments_lexer": "ipython3",
   "version": "3.4.0"
  }
 },
 "nbformat": 4,
 "nbformat_minor": 0
}
